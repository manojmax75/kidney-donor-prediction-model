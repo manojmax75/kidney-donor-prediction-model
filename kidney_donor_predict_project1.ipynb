{
  "cells": [
    {
      "cell_type": "code",
      "execution_count": 3,
      "metadata": {
        "id": "7n_vXVpj7shJ"
      },
      "outputs": [],
      "source": [
        "import numpy as np \n",
        "import pandas as pd\n",
        "import matplotlib.pyplot as plt\n",
        "import seaborn as sns\n",
        "\n",
        "from sklearn.linear_model import LogisticRegression\n",
        "from sklearn.model_selection import train_test_split,cross_val_score\n",
        "\n",
        "from sklearn.model_selection import RandomizedSearchCV\n",
        "from sklearn.metrics import classification_report,confusion_matrix\n",
        "from sklearn.metrics  import recall_score,precision_score,f1_score,plot_roc_curve\n",
        "\n",
        "  "
      ]
    },
    {
      "cell_type": "code",
      "execution_count": 5,
      "metadata": {
        "colab": {
          "base_uri": "https://localhost:8080/",
          "height": 73,
          "resources": {
            "http://localhost:8080/nbextensions/google.colab/files.js": {
              "data": "Ly8gQ29weXJpZ2h0IDIwMTcgR29vZ2xlIExMQwovLwovLyBMaWNlbnNlZCB1bmRlciB0aGUgQXBhY2hlIExpY2Vuc2UsIFZlcnNpb24gMi4wICh0aGUgIkxpY2Vuc2UiKTsKLy8geW91IG1heSBub3QgdXNlIHRoaXMgZmlsZSBleGNlcHQgaW4gY29tcGxpYW5jZSB3aXRoIHRoZSBMaWNlbnNlLgovLyBZb3UgbWF5IG9idGFpbiBhIGNvcHkgb2YgdGhlIExpY2Vuc2UgYXQKLy8KLy8gICAgICBodHRwOi8vd3d3LmFwYWNoZS5vcmcvbGljZW5zZXMvTElDRU5TRS0yLjAKLy8KLy8gVW5sZXNzIHJlcXVpcmVkIGJ5IGFwcGxpY2FibGUgbGF3IG9yIGFncmVlZCB0byBpbiB3cml0aW5nLCBzb2Z0d2FyZQovLyBkaXN0cmlidXRlZCB1bmRlciB0aGUgTGljZW5zZSBpcyBkaXN0cmlidXRlZCBvbiBhbiAiQVMgSVMiIEJBU0lTLAovLyBXSVRIT1VUIFdBUlJBTlRJRVMgT1IgQ09ORElUSU9OUyBPRiBBTlkgS0lORCwgZWl0aGVyIGV4cHJlc3Mgb3IgaW1wbGllZC4KLy8gU2VlIHRoZSBMaWNlbnNlIGZvciB0aGUgc3BlY2lmaWMgbGFuZ3VhZ2UgZ292ZXJuaW5nIHBlcm1pc3Npb25zIGFuZAovLyBsaW1pdGF0aW9ucyB1bmRlciB0aGUgTGljZW5zZS4KCi8qKgogKiBAZmlsZW92ZXJ2aWV3IEhlbHBlcnMgZm9yIGdvb2dsZS5jb2xhYiBQeXRob24gbW9kdWxlLgogKi8KKGZ1bmN0aW9uKHNjb3BlKSB7CmZ1bmN0aW9uIHNwYW4odGV4dCwgc3R5bGVBdHRyaWJ1dGVzID0ge30pIHsKICBjb25zdCBlbGVtZW50ID0gZG9jdW1lbnQuY3JlYXRlRWxlbWVudCgnc3BhbicpOwogIGVsZW1lbnQudGV4dENvbnRlbnQgPSB0ZXh0OwogIGZvciAoY29uc3Qga2V5IG9mIE9iamVjdC5rZXlzKHN0eWxlQXR0cmlidXRlcykpIHsKICAgIGVsZW1lbnQuc3R5bGVba2V5XSA9IHN0eWxlQXR0cmlidXRlc1trZXldOwogIH0KICByZXR1cm4gZWxlbWVudDsKfQoKLy8gTWF4IG51bWJlciBvZiBieXRlcyB3aGljaCB3aWxsIGJlIHVwbG9hZGVkIGF0IGEgdGltZS4KY29uc3QgTUFYX1BBWUxPQURfU0laRSA9IDEwMCAqIDEwMjQ7CgpmdW5jdGlvbiBfdXBsb2FkRmlsZXMoaW5wdXRJZCwgb3V0cHV0SWQpIHsKICBjb25zdCBzdGVwcyA9IHVwbG9hZEZpbGVzU3RlcChpbnB1dElkLCBvdXRwdXRJZCk7CiAgY29uc3Qgb3V0cHV0RWxlbWVudCA9IGRvY3VtZW50LmdldEVsZW1lbnRCeUlkKG91dHB1dElkKTsKICAvLyBDYWNoZSBzdGVwcyBvbiB0aGUgb3V0cHV0RWxlbWVudCB0byBtYWtlIGl0IGF2YWlsYWJsZSBmb3IgdGhlIG5leHQgY2FsbAogIC8vIHRvIHVwbG9hZEZpbGVzQ29udGludWUgZnJvbSBQeXRob24uCiAgb3V0cHV0RWxlbWVudC5zdGVwcyA9IHN0ZXBzOwoKICByZXR1cm4gX3VwbG9hZEZpbGVzQ29udGludWUob3V0cHV0SWQpOwp9CgovLyBUaGlzIGlzIHJvdWdobHkgYW4gYXN5bmMgZ2VuZXJhdG9yIChub3Qgc3VwcG9ydGVkIGluIHRoZSBicm93c2VyIHlldCksCi8vIHdoZXJlIHRoZXJlIGFyZSBtdWx0aXBsZSBhc3luY2hyb25vdXMgc3RlcHMgYW5kIHRoZSBQeXRob24gc2lkZSBpcyBnb2luZwovLyB0byBwb2xsIGZvciBjb21wbGV0aW9uIG9mIGVhY2ggc3RlcC4KLy8gVGhpcyB1c2VzIGEgUHJvbWlzZSB0byBibG9jayB0aGUgcHl0aG9uIHNpZGUgb24gY29tcGxldGlvbiBvZiBlYWNoIHN0ZXAsCi8vIHRoZW4gcGFzc2VzIHRoZSByZXN1bHQgb2YgdGhlIHByZXZpb3VzIHN0ZXAgYXMgdGhlIGlucHV0IHRvIHRoZSBuZXh0IHN0ZXAuCmZ1bmN0aW9uIF91cGxvYWRGaWxlc0NvbnRpbnVlKG91dHB1dElkKSB7CiAgY29uc3Qgb3V0cHV0RWxlbWVudCA9IGRvY3VtZW50LmdldEVsZW1lbnRCeUlkKG91dHB1dElkKTsKICBjb25zdCBzdGVwcyA9IG91dHB1dEVsZW1lbnQuc3RlcHM7CgogIGNvbnN0IG5leHQgPSBzdGVwcy5uZXh0KG91dHB1dEVsZW1lbnQubGFzdFByb21pc2VWYWx1ZSk7CiAgcmV0dXJuIFByb21pc2UucmVzb2x2ZShuZXh0LnZhbHVlLnByb21pc2UpLnRoZW4oKHZhbHVlKSA9PiB7CiAgICAvLyBDYWNoZSB0aGUgbGFzdCBwcm9taXNlIHZhbHVlIHRvIG1ha2UgaXQgYXZhaWxhYmxlIHRvIHRoZSBuZXh0CiAgICAvLyBzdGVwIG9mIHRoZSBnZW5lcmF0b3IuCiAgICBvdXRwdXRFbGVtZW50Lmxhc3RQcm9taXNlVmFsdWUgPSB2YWx1ZTsKICAgIHJldHVybiBuZXh0LnZhbHVlLnJlc3BvbnNlOwogIH0pOwp9CgovKioKICogR2VuZXJhdG9yIGZ1bmN0aW9uIHdoaWNoIGlzIGNhbGxlZCBiZXR3ZWVuIGVhY2ggYXN5bmMgc3RlcCBvZiB0aGUgdXBsb2FkCiAqIHByb2Nlc3MuCiAqIEBwYXJhbSB7c3RyaW5nfSBpbnB1dElkIEVsZW1lbnQgSUQgb2YgdGhlIGlucHV0IGZpbGUgcGlja2VyIGVsZW1lbnQuCiAqIEBwYXJhbSB7c3RyaW5nfSBvdXRwdXRJZCBFbGVtZW50IElEIG9mIHRoZSBvdXRwdXQgZGlzcGxheS4KICogQHJldHVybiB7IUl0ZXJhYmxlPCFPYmplY3Q+fSBJdGVyYWJsZSBvZiBuZXh0IHN0ZXBzLgogKi8KZnVuY3Rpb24qIHVwbG9hZEZpbGVzU3RlcChpbnB1dElkLCBvdXRwdXRJZCkgewogIGNvbnN0IGlucHV0RWxlbWVudCA9IGRvY3VtZW50LmdldEVsZW1lbnRCeUlkKGlucHV0SWQpOwogIGlucHV0RWxlbWVudC5kaXNhYmxlZCA9IGZhbHNlOwoKICBjb25zdCBvdXRwdXRFbGVtZW50ID0gZG9jdW1lbnQuZ2V0RWxlbWVudEJ5SWQob3V0cHV0SWQpOwogIG91dHB1dEVsZW1lbnQuaW5uZXJIVE1MID0gJyc7CgogIGNvbnN0IHBpY2tlZFByb21pc2UgPSBuZXcgUHJvbWlzZSgocmVzb2x2ZSkgPT4gewogICAgaW5wdXRFbGVtZW50LmFkZEV2ZW50TGlzdGVuZXIoJ2NoYW5nZScsIChlKSA9PiB7CiAgICAgIHJlc29sdmUoZS50YXJnZXQuZmlsZXMpOwogICAgfSk7CiAgfSk7CgogIGNvbnN0IGNhbmNlbCA9IGRvY3VtZW50LmNyZWF0ZUVsZW1lbnQoJ2J1dHRvbicpOwogIGlucHV0RWxlbWVudC5wYXJlbnRFbGVtZW50LmFwcGVuZENoaWxkKGNhbmNlbCk7CiAgY2FuY2VsLnRleHRDb250ZW50ID0gJ0NhbmNlbCB1cGxvYWQnOwogIGNvbnN0IGNhbmNlbFByb21pc2UgPSBuZXcgUHJvbWlzZSgocmVzb2x2ZSkgPT4gewogICAgY2FuY2VsLm9uY2xpY2sgPSAoKSA9PiB7CiAgICAgIHJlc29sdmUobnVsbCk7CiAgICB9OwogIH0pOwoKICAvLyBXYWl0IGZvciB0aGUgdXNlciB0byBwaWNrIHRoZSBmaWxlcy4KICBjb25zdCBmaWxlcyA9IHlpZWxkIHsKICAgIHByb21pc2U6IFByb21pc2UucmFjZShbcGlja2VkUHJvbWlzZSwgY2FuY2VsUHJvbWlzZV0pLAogICAgcmVzcG9uc2U6IHsKICAgICAgYWN0aW9uOiAnc3RhcnRpbmcnLAogICAgfQogIH07CgogIGNhbmNlbC5yZW1vdmUoKTsKCiAgLy8gRGlzYWJsZSB0aGUgaW5wdXQgZWxlbWVudCBzaW5jZSBmdXJ0aGVyIHBpY2tzIGFyZSBub3QgYWxsb3dlZC4KICBpbnB1dEVsZW1lbnQuZGlzYWJsZWQgPSB0cnVlOwoKICBpZiAoIWZpbGVzKSB7CiAgICByZXR1cm4gewogICAgICByZXNwb25zZTogewogICAgICAgIGFjdGlvbjogJ2NvbXBsZXRlJywKICAgICAgfQogICAgfTsKICB9CgogIGZvciAoY29uc3QgZmlsZSBvZiBmaWxlcykgewogICAgY29uc3QgbGkgPSBkb2N1bWVudC5jcmVhdGVFbGVtZW50KCdsaScpOwogICAgbGkuYXBwZW5kKHNwYW4oZmlsZS5uYW1lLCB7Zm9udFdlaWdodDogJ2JvbGQnfSkpOwogICAgbGkuYXBwZW5kKHNwYW4oCiAgICAgICAgYCgke2ZpbGUudHlwZSB8fCAnbi9hJ30pIC0gJHtmaWxlLnNpemV9IGJ5dGVzLCBgICsKICAgICAgICBgbGFzdCBtb2RpZmllZDogJHsKICAgICAgICAgICAgZmlsZS5sYXN0TW9kaWZpZWREYXRlID8gZmlsZS5sYXN0TW9kaWZpZWREYXRlLnRvTG9jYWxlRGF0ZVN0cmluZygpIDoKICAgICAgICAgICAgICAgICAgICAgICAgICAgICAgICAgICAgJ24vYSd9IC0gYCkpOwogICAgY29uc3QgcGVyY2VudCA9IHNwYW4oJzAlIGRvbmUnKTsKICAgIGxpLmFwcGVuZENoaWxkKHBlcmNlbnQpOwoKICAgIG91dHB1dEVsZW1lbnQuYXBwZW5kQ2hpbGQobGkpOwoKICAgIGNvbnN0IGZpbGVEYXRhUHJvbWlzZSA9IG5ldyBQcm9taXNlKChyZXNvbHZlKSA9PiB7CiAgICAgIGNvbnN0IHJlYWRlciA9IG5ldyBGaWxlUmVhZGVyKCk7CiAgICAgIHJlYWRlci5vbmxvYWQgPSAoZSkgPT4gewogICAgICAgIHJlc29sdmUoZS50YXJnZXQucmVzdWx0KTsKICAgICAgfTsKICAgICAgcmVhZGVyLnJlYWRBc0FycmF5QnVmZmVyKGZpbGUpOwogICAgfSk7CiAgICAvLyBXYWl0IGZvciB0aGUgZGF0YSB0byBiZSByZWFkeS4KICAgIGxldCBmaWxlRGF0YSA9IHlpZWxkIHsKICAgICAgcHJvbWlzZTogZmlsZURhdGFQcm9taXNlLAogICAgICByZXNwb25zZTogewogICAgICAgIGFjdGlvbjogJ2NvbnRpbnVlJywKICAgICAgfQogICAgfTsKCiAgICAvLyBVc2UgYSBjaHVua2VkIHNlbmRpbmcgdG8gYXZvaWQgbWVzc2FnZSBzaXplIGxpbWl0cy4gU2VlIGIvNjIxMTU2NjAuCiAgICBsZXQgcG9zaXRpb24gPSAwOwogICAgZG8gewogICAgICBjb25zdCBsZW5ndGggPSBNYXRoLm1pbihmaWxlRGF0YS5ieXRlTGVuZ3RoIC0gcG9zaXRpb24sIE1BWF9QQVlMT0FEX1NJWkUpOwogICAgICBjb25zdCBjaHVuayA9IG5ldyBVaW50OEFycmF5KGZpbGVEYXRhLCBwb3NpdGlvbiwgbGVuZ3RoKTsKICAgICAgcG9zaXRpb24gKz0gbGVuZ3RoOwoKICAgICAgY29uc3QgYmFzZTY0ID0gYnRvYShTdHJpbmcuZnJvbUNoYXJDb2RlLmFwcGx5KG51bGwsIGNodW5rKSk7CiAgICAgIHlpZWxkIHsKICAgICAgICByZXNwb25zZTogewogICAgICAgICAgYWN0aW9uOiAnYXBwZW5kJywKICAgICAgICAgIGZpbGU6IGZpbGUubmFtZSwKICAgICAgICAgIGRhdGE6IGJhc2U2NCwKICAgICAgICB9LAogICAgICB9OwoKICAgICAgbGV0IHBlcmNlbnREb25lID0gZmlsZURhdGEuYnl0ZUxlbmd0aCA9PT0gMCA/CiAgICAgICAgICAxMDAgOgogICAgICAgICAgTWF0aC5yb3VuZCgocG9zaXRpb24gLyBmaWxlRGF0YS5ieXRlTGVuZ3RoKSAqIDEwMCk7CiAgICAgIHBlcmNlbnQudGV4dENvbnRlbnQgPSBgJHtwZXJjZW50RG9uZX0lIGRvbmVgOwoKICAgIH0gd2hpbGUgKHBvc2l0aW9uIDwgZmlsZURhdGEuYnl0ZUxlbmd0aCk7CiAgfQoKICAvLyBBbGwgZG9uZS4KICB5aWVsZCB7CiAgICByZXNwb25zZTogewogICAgICBhY3Rpb246ICdjb21wbGV0ZScsCiAgICB9CiAgfTsKfQoKc2NvcGUuZ29vZ2xlID0gc2NvcGUuZ29vZ2xlIHx8IHt9OwpzY29wZS5nb29nbGUuY29sYWIgPSBzY29wZS5nb29nbGUuY29sYWIgfHwge307CnNjb3BlLmdvb2dsZS5jb2xhYi5fZmlsZXMgPSB7CiAgX3VwbG9hZEZpbGVzLAogIF91cGxvYWRGaWxlc0NvbnRpbnVlLAp9Owp9KShzZWxmKTsK",
              "headers": [
                [
                  "content-type",
                  "application/javascript"
                ]
              ],
              "ok": true,
              "status": 200,
              "status_text": ""
            }
          }
        },
        "id": "FLLpywgmVIcd",
        "outputId": "33c7843d-4856-4059-cc4e-4b093d2e2d3b"
      },
      "outputs": [
        {
          "output_type": "display_data",
          "data": {
            "text/plain": [
              "<IPython.core.display.HTML object>"
            ],
            "text/html": [
              "\n",
              "     <input type=\"file\" id=\"files-b355930e-27e0-484b-a8ec-c0ab72813c5e\" name=\"files[]\" multiple disabled\n",
              "        style=\"border:none\" />\n",
              "     <output id=\"result-b355930e-27e0-484b-a8ec-c0ab72813c5e\">\n",
              "      Upload widget is only available when the cell has been executed in the\n",
              "      current browser session. Please rerun this cell to enable.\n",
              "      </output>\n",
              "      <script src=\"/nbextensions/google.colab/files.js\"></script> "
            ]
          },
          "metadata": {}
        },
        {
          "output_type": "stream",
          "name": "stdout",
          "text": [
            "Saving kidney-donor.csv to kidney-donor.csv\n"
          ]
        }
      ],
      "source": [
        "from google.colab import files\n",
        "uploaded=files.upload()"
      ]
    },
    {
      "cell_type": "code",
      "execution_count": 7,
      "metadata": {
        "colab": {
          "base_uri": "https://localhost:8080/"
        },
        "id": "bWcKs9WDWwMS",
        "outputId": "af9802aa-1a32-489d-c291-1213f57fbda6"
      },
      "outputs": [
        {
          "output_type": "execute_result",
          "data": {
            "text/plain": [
              "(71920, 18)"
            ]
          },
          "metadata": {},
          "execution_count": 7
        }
      ],
      "source": [
        "df=pd.read_csv('kidney-donor.csv')\n",
        "df.shape\n"
      ]
    },
    {
      "cell_type": "code",
      "execution_count": 8,
      "metadata": {
        "colab": {
          "base_uri": "https://localhost:8080/",
          "height": 364
        },
        "id": "IsDODny8W7wn",
        "outputId": "02792877-049a-479c-98a2-dc8c9d2613f6"
      },
      "outputs": [
        {
          "output_type": "execute_result",
          "data": {
            "text/plain": [
              "                age           sex            cp      trestbps          chol  \\\n",
              "count  67872.000000  71920.000000  71918.000000  71920.000000  71920.000000   \n",
              "mean      54.366337      0.683370      0.966225    131.629853    246.272330   \n",
              "std        9.067168      0.465165      1.030339     17.513434     51.743078   \n",
              "min       29.000000      0.000000      0.000000     94.000000    126.000000   \n",
              "25%       47.000000      0.000000      0.000000    120.000000    211.000000   \n",
              "50%       55.000000      1.000000      1.000000    130.000000    240.000000   \n",
              "75%       61.000000      1.000000      2.000000    140.000000    275.000000   \n",
              "max       77.000000      1.000000      3.000000    200.000000    564.000000   \n",
              "\n",
              "                fbs       restecg       thalach         exang         slope  \\\n",
              "count  71920.000000  71920.000000  71920.000000  71920.000000  71920.000000   \n",
              "mean       0.148554      0.528003    149.632175      0.327086      1.398999   \n",
              "std        0.355651      0.525039     22.873193      0.469152      0.615189   \n",
              "min        0.000000      0.000000     71.000000      0.000000      0.000000   \n",
              "25%        0.000000      0.000000    133.000000      0.000000      1.000000   \n",
              "50%        0.000000      1.000000    153.000000      0.000000      1.000000   \n",
              "75%        0.000000      1.000000    166.000000      1.000000      2.000000   \n",
              "max        1.000000      2.000000    202.000000      1.000000      2.000000   \n",
              "\n",
              "                 ca          thal           hla    bloodgroup         serum  \\\n",
              "count  71920.000000  71920.000000  71920.000000  71920.000000  71920.000000   \n",
              "mean       0.730075      2.313835      0.327086      2.402809      1.046022   \n",
              "std        1.021134      0.611461      0.469152      0.700976      1.169819   \n",
              "min        0.000000      0.000000      0.000000      0.000000      0.000000   \n",
              "25%        0.000000      2.000000      0.000000      2.000000      0.000000   \n",
              "50%        0.000000      2.000000      0.000000      2.000000      0.800000   \n",
              "75%        1.000000      3.000000      1.000000      3.000000      1.600000   \n",
              "max        4.000000      3.000000      1.000000      4.000000      6.200000   \n",
              "\n",
              "            smoking       drining        target  \n",
              "count  71920.000000  71920.000000  71920.000000  \n",
              "mean       0.328643      0.148554      0.543729  \n",
              "std        0.469723      0.355651      0.498088  \n",
              "min        0.000000      0.000000      0.000000  \n",
              "25%        0.000000      0.000000      0.000000  \n",
              "50%        0.000000      0.000000      1.000000  \n",
              "75%        1.000000      0.000000      1.000000  \n",
              "max        1.000000      1.000000      1.000000  "
            ],
            "text/html": [
              "\n",
              "  <div id=\"df-00267427-7acb-46f5-aee3-98f1a26f5eba\">\n",
              "    <div class=\"colab-df-container\">\n",
              "      <div>\n",
              "<style scoped>\n",
              "    .dataframe tbody tr th:only-of-type {\n",
              "        vertical-align: middle;\n",
              "    }\n",
              "\n",
              "    .dataframe tbody tr th {\n",
              "        vertical-align: top;\n",
              "    }\n",
              "\n",
              "    .dataframe thead th {\n",
              "        text-align: right;\n",
              "    }\n",
              "</style>\n",
              "<table border=\"1\" class=\"dataframe\">\n",
              "  <thead>\n",
              "    <tr style=\"text-align: right;\">\n",
              "      <th></th>\n",
              "      <th>age</th>\n",
              "      <th>sex</th>\n",
              "      <th>cp</th>\n",
              "      <th>trestbps</th>\n",
              "      <th>chol</th>\n",
              "      <th>fbs</th>\n",
              "      <th>restecg</th>\n",
              "      <th>thalach</th>\n",
              "      <th>exang</th>\n",
              "      <th>slope</th>\n",
              "      <th>ca</th>\n",
              "      <th>thal</th>\n",
              "      <th>hla</th>\n",
              "      <th>bloodgroup</th>\n",
              "      <th>serum</th>\n",
              "      <th>smoking</th>\n",
              "      <th>drining</th>\n",
              "      <th>target</th>\n",
              "    </tr>\n",
              "  </thead>\n",
              "  <tbody>\n",
              "    <tr>\n",
              "      <th>count</th>\n",
              "      <td>67872.000000</td>\n",
              "      <td>71920.000000</td>\n",
              "      <td>71918.000000</td>\n",
              "      <td>71920.000000</td>\n",
              "      <td>71920.000000</td>\n",
              "      <td>71920.000000</td>\n",
              "      <td>71920.000000</td>\n",
              "      <td>71920.000000</td>\n",
              "      <td>71920.000000</td>\n",
              "      <td>71920.000000</td>\n",
              "      <td>71920.000000</td>\n",
              "      <td>71920.000000</td>\n",
              "      <td>71920.000000</td>\n",
              "      <td>71920.000000</td>\n",
              "      <td>71920.000000</td>\n",
              "      <td>71920.000000</td>\n",
              "      <td>71920.000000</td>\n",
              "      <td>71920.000000</td>\n",
              "    </tr>\n",
              "    <tr>\n",
              "      <th>mean</th>\n",
              "      <td>54.366337</td>\n",
              "      <td>0.683370</td>\n",
              "      <td>0.966225</td>\n",
              "      <td>131.629853</td>\n",
              "      <td>246.272330</td>\n",
              "      <td>0.148554</td>\n",
              "      <td>0.528003</td>\n",
              "      <td>149.632175</td>\n",
              "      <td>0.327086</td>\n",
              "      <td>1.398999</td>\n",
              "      <td>0.730075</td>\n",
              "      <td>2.313835</td>\n",
              "      <td>0.327086</td>\n",
              "      <td>2.402809</td>\n",
              "      <td>1.046022</td>\n",
              "      <td>0.328643</td>\n",
              "      <td>0.148554</td>\n",
              "      <td>0.543729</td>\n",
              "    </tr>\n",
              "    <tr>\n",
              "      <th>std</th>\n",
              "      <td>9.067168</td>\n",
              "      <td>0.465165</td>\n",
              "      <td>1.030339</td>\n",
              "      <td>17.513434</td>\n",
              "      <td>51.743078</td>\n",
              "      <td>0.355651</td>\n",
              "      <td>0.525039</td>\n",
              "      <td>22.873193</td>\n",
              "      <td>0.469152</td>\n",
              "      <td>0.615189</td>\n",
              "      <td>1.021134</td>\n",
              "      <td>0.611461</td>\n",
              "      <td>0.469152</td>\n",
              "      <td>0.700976</td>\n",
              "      <td>1.169819</td>\n",
              "      <td>0.469723</td>\n",
              "      <td>0.355651</td>\n",
              "      <td>0.498088</td>\n",
              "    </tr>\n",
              "    <tr>\n",
              "      <th>min</th>\n",
              "      <td>29.000000</td>\n",
              "      <td>0.000000</td>\n",
              "      <td>0.000000</td>\n",
              "      <td>94.000000</td>\n",
              "      <td>126.000000</td>\n",
              "      <td>0.000000</td>\n",
              "      <td>0.000000</td>\n",
              "      <td>71.000000</td>\n",
              "      <td>0.000000</td>\n",
              "      <td>0.000000</td>\n",
              "      <td>0.000000</td>\n",
              "      <td>0.000000</td>\n",
              "      <td>0.000000</td>\n",
              "      <td>0.000000</td>\n",
              "      <td>0.000000</td>\n",
              "      <td>0.000000</td>\n",
              "      <td>0.000000</td>\n",
              "      <td>0.000000</td>\n",
              "    </tr>\n",
              "    <tr>\n",
              "      <th>25%</th>\n",
              "      <td>47.000000</td>\n",
              "      <td>0.000000</td>\n",
              "      <td>0.000000</td>\n",
              "      <td>120.000000</td>\n",
              "      <td>211.000000</td>\n",
              "      <td>0.000000</td>\n",
              "      <td>0.000000</td>\n",
              "      <td>133.000000</td>\n",
              "      <td>0.000000</td>\n",
              "      <td>1.000000</td>\n",
              "      <td>0.000000</td>\n",
              "      <td>2.000000</td>\n",
              "      <td>0.000000</td>\n",
              "      <td>2.000000</td>\n",
              "      <td>0.000000</td>\n",
              "      <td>0.000000</td>\n",
              "      <td>0.000000</td>\n",
              "      <td>0.000000</td>\n",
              "    </tr>\n",
              "    <tr>\n",
              "      <th>50%</th>\n",
              "      <td>55.000000</td>\n",
              "      <td>1.000000</td>\n",
              "      <td>1.000000</td>\n",
              "      <td>130.000000</td>\n",
              "      <td>240.000000</td>\n",
              "      <td>0.000000</td>\n",
              "      <td>1.000000</td>\n",
              "      <td>153.000000</td>\n",
              "      <td>0.000000</td>\n",
              "      <td>1.000000</td>\n",
              "      <td>0.000000</td>\n",
              "      <td>2.000000</td>\n",
              "      <td>0.000000</td>\n",
              "      <td>2.000000</td>\n",
              "      <td>0.800000</td>\n",
              "      <td>0.000000</td>\n",
              "      <td>0.000000</td>\n",
              "      <td>1.000000</td>\n",
              "    </tr>\n",
              "    <tr>\n",
              "      <th>75%</th>\n",
              "      <td>61.000000</td>\n",
              "      <td>1.000000</td>\n",
              "      <td>2.000000</td>\n",
              "      <td>140.000000</td>\n",
              "      <td>275.000000</td>\n",
              "      <td>0.000000</td>\n",
              "      <td>1.000000</td>\n",
              "      <td>166.000000</td>\n",
              "      <td>1.000000</td>\n",
              "      <td>2.000000</td>\n",
              "      <td>1.000000</td>\n",
              "      <td>3.000000</td>\n",
              "      <td>1.000000</td>\n",
              "      <td>3.000000</td>\n",
              "      <td>1.600000</td>\n",
              "      <td>1.000000</td>\n",
              "      <td>0.000000</td>\n",
              "      <td>1.000000</td>\n",
              "    </tr>\n",
              "    <tr>\n",
              "      <th>max</th>\n",
              "      <td>77.000000</td>\n",
              "      <td>1.000000</td>\n",
              "      <td>3.000000</td>\n",
              "      <td>200.000000</td>\n",
              "      <td>564.000000</td>\n",
              "      <td>1.000000</td>\n",
              "      <td>2.000000</td>\n",
              "      <td>202.000000</td>\n",
              "      <td>1.000000</td>\n",
              "      <td>2.000000</td>\n",
              "      <td>4.000000</td>\n",
              "      <td>3.000000</td>\n",
              "      <td>1.000000</td>\n",
              "      <td>4.000000</td>\n",
              "      <td>6.200000</td>\n",
              "      <td>1.000000</td>\n",
              "      <td>1.000000</td>\n",
              "      <td>1.000000</td>\n",
              "    </tr>\n",
              "  </tbody>\n",
              "</table>\n",
              "</div>\n",
              "      <button class=\"colab-df-convert\" onclick=\"convertToInteractive('df-00267427-7acb-46f5-aee3-98f1a26f5eba')\"\n",
              "              title=\"Convert this dataframe to an interactive table.\"\n",
              "              style=\"display:none;\">\n",
              "        \n",
              "  <svg xmlns=\"http://www.w3.org/2000/svg\" height=\"24px\"viewBox=\"0 0 24 24\"\n",
              "       width=\"24px\">\n",
              "    <path d=\"M0 0h24v24H0V0z\" fill=\"none\"/>\n",
              "    <path d=\"M18.56 5.44l.94 2.06.94-2.06 2.06-.94-2.06-.94-.94-2.06-.94 2.06-2.06.94zm-11 1L8.5 8.5l.94-2.06 2.06-.94-2.06-.94L8.5 2.5l-.94 2.06-2.06.94zm10 10l.94 2.06.94-2.06 2.06-.94-2.06-.94-.94-2.06-.94 2.06-2.06.94z\"/><path d=\"M17.41 7.96l-1.37-1.37c-.4-.4-.92-.59-1.43-.59-.52 0-1.04.2-1.43.59L10.3 9.45l-7.72 7.72c-.78.78-.78 2.05 0 2.83L4 21.41c.39.39.9.59 1.41.59.51 0 1.02-.2 1.41-.59l7.78-7.78 2.81-2.81c.8-.78.8-2.07 0-2.86zM5.41 20L4 18.59l7.72-7.72 1.47 1.35L5.41 20z\"/>\n",
              "  </svg>\n",
              "      </button>\n",
              "      \n",
              "  <style>\n",
              "    .colab-df-container {\n",
              "      display:flex;\n",
              "      flex-wrap:wrap;\n",
              "      gap: 12px;\n",
              "    }\n",
              "\n",
              "    .colab-df-convert {\n",
              "      background-color: #E8F0FE;\n",
              "      border: none;\n",
              "      border-radius: 50%;\n",
              "      cursor: pointer;\n",
              "      display: none;\n",
              "      fill: #1967D2;\n",
              "      height: 32px;\n",
              "      padding: 0 0 0 0;\n",
              "      width: 32px;\n",
              "    }\n",
              "\n",
              "    .colab-df-convert:hover {\n",
              "      background-color: #E2EBFA;\n",
              "      box-shadow: 0px 1px 2px rgba(60, 64, 67, 0.3), 0px 1px 3px 1px rgba(60, 64, 67, 0.15);\n",
              "      fill: #174EA6;\n",
              "    }\n",
              "\n",
              "    [theme=dark] .colab-df-convert {\n",
              "      background-color: #3B4455;\n",
              "      fill: #D2E3FC;\n",
              "    }\n",
              "\n",
              "    [theme=dark] .colab-df-convert:hover {\n",
              "      background-color: #434B5C;\n",
              "      box-shadow: 0px 1px 3px 1px rgba(0, 0, 0, 0.15);\n",
              "      filter: drop-shadow(0px 1px 2px rgba(0, 0, 0, 0.3));\n",
              "      fill: #FFFFFF;\n",
              "    }\n",
              "  </style>\n",
              "\n",
              "      <script>\n",
              "        const buttonEl =\n",
              "          document.querySelector('#df-00267427-7acb-46f5-aee3-98f1a26f5eba button.colab-df-convert');\n",
              "        buttonEl.style.display =\n",
              "          google.colab.kernel.accessAllowed ? 'block' : 'none';\n",
              "\n",
              "        async function convertToInteractive(key) {\n",
              "          const element = document.querySelector('#df-00267427-7acb-46f5-aee3-98f1a26f5eba');\n",
              "          const dataTable =\n",
              "            await google.colab.kernel.invokeFunction('convertToInteractive',\n",
              "                                                     [key], {});\n",
              "          if (!dataTable) return;\n",
              "\n",
              "          const docLinkHtml = 'Like what you see? Visit the ' +\n",
              "            '<a target=\"_blank\" href=https://colab.research.google.com/notebooks/data_table.ipynb>data table notebook</a>'\n",
              "            + ' to learn more about interactive tables.';\n",
              "          element.innerHTML = '';\n",
              "          dataTable['output_type'] = 'display_data';\n",
              "          await google.colab.output.renderOutput(dataTable, element);\n",
              "          const docLink = document.createElement('div');\n",
              "          docLink.innerHTML = docLinkHtml;\n",
              "          element.appendChild(docLink);\n",
              "        }\n",
              "      </script>\n",
              "    </div>\n",
              "  </div>\n",
              "  "
            ]
          },
          "metadata": {},
          "execution_count": 8
        }
      ],
      "source": [
        "df.describe()"
      ]
    },
    {
      "cell_type": "code",
      "execution_count": 9,
      "metadata": {
        "colab": {
          "base_uri": "https://localhost:8080/"
        },
        "id": "DcQ97dd_XGFv",
        "outputId": "6a125077-8565-4664-e0ed-4dbda3ad1538"
      },
      "outputs": [
        {
          "output_type": "stream",
          "name": "stdout",
          "text": [
            "<class 'pandas.core.frame.DataFrame'>\n",
            "RangeIndex: 71920 entries, 0 to 71919\n",
            "Data columns (total 18 columns):\n",
            " #   Column      Non-Null Count  Dtype  \n",
            "---  ------      --------------  -----  \n",
            " 0   age         67872 non-null  float64\n",
            " 1   sex         71920 non-null  int64  \n",
            " 2   cp          71918 non-null  float64\n",
            " 3   trestbps    71920 non-null  int64  \n",
            " 4   chol        71920 non-null  int64  \n",
            " 5   fbs         71920 non-null  int64  \n",
            " 6   restecg     71920 non-null  int64  \n",
            " 7   thalach     71920 non-null  int64  \n",
            " 8   exang       71920 non-null  int64  \n",
            " 9   slope       71920 non-null  int64  \n",
            " 10  ca          71920 non-null  int64  \n",
            " 11  thal        71920 non-null  int64  \n",
            " 12  hla         71920 non-null  int64  \n",
            " 13  bloodgroup  71920 non-null  int64  \n",
            " 14  serum       71920 non-null  float64\n",
            " 15  smoking     71920 non-null  int64  \n",
            " 16  drining     71920 non-null  int64  \n",
            " 17  target      71920 non-null  int64  \n",
            "dtypes: float64(3), int64(15)\n",
            "memory usage: 9.9 MB\n"
          ]
        }
      ],
      "source": [
        "df.info()"
      ]
    },
    {
      "cell_type": "code",
      "execution_count": 10,
      "metadata": {
        "colab": {
          "base_uri": "https://localhost:8080/",
          "height": 206
        },
        "id": "faKS7XkvXLXt",
        "outputId": "ac4f80ed-9ee3-45c4-d444-3a99cd243636"
      },
      "outputs": [
        {
          "output_type": "execute_result",
          "data": {
            "text/plain": [
              "    age  sex   cp  trestbps  chol  fbs  restecg  thalach  exang  slope  ca  \\\n",
              "0  63.0    1  3.0       145   233    1        0      150      0      0   0   \n",
              "1  37.0    1  2.0       130   250    0        1      187      0      0   0   \n",
              "2  41.0    0  1.0       130   204    0        0      172      0      2   0   \n",
              "3  56.0    1  1.0       120   236    0        1      178      0      2   0   \n",
              "4  57.0    0  0.0       120   354    0        1      163      1      2   0   \n",
              "\n",
              "   thal  hla  bloodgroup  serum  smoking  drining  target  \n",
              "0     1    0           1    4.0        0        1       1  \n",
              "1     2    0           2    3.5        1        0       1  \n",
              "2     2    0           2    1.4        0        0       1  \n",
              "3     2    0           2    0.8        0        0       1  \n",
              "4     2    1           2    0.6        1        0       1  "
            ],
            "text/html": [
              "\n",
              "  <div id=\"df-d6f9b89c-6507-4e5b-9f4b-c09d92ba1fc3\">\n",
              "    <div class=\"colab-df-container\">\n",
              "      <div>\n",
              "<style scoped>\n",
              "    .dataframe tbody tr th:only-of-type {\n",
              "        vertical-align: middle;\n",
              "    }\n",
              "\n",
              "    .dataframe tbody tr th {\n",
              "        vertical-align: top;\n",
              "    }\n",
              "\n",
              "    .dataframe thead th {\n",
              "        text-align: right;\n",
              "    }\n",
              "</style>\n",
              "<table border=\"1\" class=\"dataframe\">\n",
              "  <thead>\n",
              "    <tr style=\"text-align: right;\">\n",
              "      <th></th>\n",
              "      <th>age</th>\n",
              "      <th>sex</th>\n",
              "      <th>cp</th>\n",
              "      <th>trestbps</th>\n",
              "      <th>chol</th>\n",
              "      <th>fbs</th>\n",
              "      <th>restecg</th>\n",
              "      <th>thalach</th>\n",
              "      <th>exang</th>\n",
              "      <th>slope</th>\n",
              "      <th>ca</th>\n",
              "      <th>thal</th>\n",
              "      <th>hla</th>\n",
              "      <th>bloodgroup</th>\n",
              "      <th>serum</th>\n",
              "      <th>smoking</th>\n",
              "      <th>drining</th>\n",
              "      <th>target</th>\n",
              "    </tr>\n",
              "  </thead>\n",
              "  <tbody>\n",
              "    <tr>\n",
              "      <th>0</th>\n",
              "      <td>63.0</td>\n",
              "      <td>1</td>\n",
              "      <td>3.0</td>\n",
              "      <td>145</td>\n",
              "      <td>233</td>\n",
              "      <td>1</td>\n",
              "      <td>0</td>\n",
              "      <td>150</td>\n",
              "      <td>0</td>\n",
              "      <td>0</td>\n",
              "      <td>0</td>\n",
              "      <td>1</td>\n",
              "      <td>0</td>\n",
              "      <td>1</td>\n",
              "      <td>4.0</td>\n",
              "      <td>0</td>\n",
              "      <td>1</td>\n",
              "      <td>1</td>\n",
              "    </tr>\n",
              "    <tr>\n",
              "      <th>1</th>\n",
              "      <td>37.0</td>\n",
              "      <td>1</td>\n",
              "      <td>2.0</td>\n",
              "      <td>130</td>\n",
              "      <td>250</td>\n",
              "      <td>0</td>\n",
              "      <td>1</td>\n",
              "      <td>187</td>\n",
              "      <td>0</td>\n",
              "      <td>0</td>\n",
              "      <td>0</td>\n",
              "      <td>2</td>\n",
              "      <td>0</td>\n",
              "      <td>2</td>\n",
              "      <td>3.5</td>\n",
              "      <td>1</td>\n",
              "      <td>0</td>\n",
              "      <td>1</td>\n",
              "    </tr>\n",
              "    <tr>\n",
              "      <th>2</th>\n",
              "      <td>41.0</td>\n",
              "      <td>0</td>\n",
              "      <td>1.0</td>\n",
              "      <td>130</td>\n",
              "      <td>204</td>\n",
              "      <td>0</td>\n",
              "      <td>0</td>\n",
              "      <td>172</td>\n",
              "      <td>0</td>\n",
              "      <td>2</td>\n",
              "      <td>0</td>\n",
              "      <td>2</td>\n",
              "      <td>0</td>\n",
              "      <td>2</td>\n",
              "      <td>1.4</td>\n",
              "      <td>0</td>\n",
              "      <td>0</td>\n",
              "      <td>1</td>\n",
              "    </tr>\n",
              "    <tr>\n",
              "      <th>3</th>\n",
              "      <td>56.0</td>\n",
              "      <td>1</td>\n",
              "      <td>1.0</td>\n",
              "      <td>120</td>\n",
              "      <td>236</td>\n",
              "      <td>0</td>\n",
              "      <td>1</td>\n",
              "      <td>178</td>\n",
              "      <td>0</td>\n",
              "      <td>2</td>\n",
              "      <td>0</td>\n",
              "      <td>2</td>\n",
              "      <td>0</td>\n",
              "      <td>2</td>\n",
              "      <td>0.8</td>\n",
              "      <td>0</td>\n",
              "      <td>0</td>\n",
              "      <td>1</td>\n",
              "    </tr>\n",
              "    <tr>\n",
              "      <th>4</th>\n",
              "      <td>57.0</td>\n",
              "      <td>0</td>\n",
              "      <td>0.0</td>\n",
              "      <td>120</td>\n",
              "      <td>354</td>\n",
              "      <td>0</td>\n",
              "      <td>1</td>\n",
              "      <td>163</td>\n",
              "      <td>1</td>\n",
              "      <td>2</td>\n",
              "      <td>0</td>\n",
              "      <td>2</td>\n",
              "      <td>1</td>\n",
              "      <td>2</td>\n",
              "      <td>0.6</td>\n",
              "      <td>1</td>\n",
              "      <td>0</td>\n",
              "      <td>1</td>\n",
              "    </tr>\n",
              "  </tbody>\n",
              "</table>\n",
              "</div>\n",
              "      <button class=\"colab-df-convert\" onclick=\"convertToInteractive('df-d6f9b89c-6507-4e5b-9f4b-c09d92ba1fc3')\"\n",
              "              title=\"Convert this dataframe to an interactive table.\"\n",
              "              style=\"display:none;\">\n",
              "        \n",
              "  <svg xmlns=\"http://www.w3.org/2000/svg\" height=\"24px\"viewBox=\"0 0 24 24\"\n",
              "       width=\"24px\">\n",
              "    <path d=\"M0 0h24v24H0V0z\" fill=\"none\"/>\n",
              "    <path d=\"M18.56 5.44l.94 2.06.94-2.06 2.06-.94-2.06-.94-.94-2.06-.94 2.06-2.06.94zm-11 1L8.5 8.5l.94-2.06 2.06-.94-2.06-.94L8.5 2.5l-.94 2.06-2.06.94zm10 10l.94 2.06.94-2.06 2.06-.94-2.06-.94-.94-2.06-.94 2.06-2.06.94z\"/><path d=\"M17.41 7.96l-1.37-1.37c-.4-.4-.92-.59-1.43-.59-.52 0-1.04.2-1.43.59L10.3 9.45l-7.72 7.72c-.78.78-.78 2.05 0 2.83L4 21.41c.39.39.9.59 1.41.59.51 0 1.02-.2 1.41-.59l7.78-7.78 2.81-2.81c.8-.78.8-2.07 0-2.86zM5.41 20L4 18.59l7.72-7.72 1.47 1.35L5.41 20z\"/>\n",
              "  </svg>\n",
              "      </button>\n",
              "      \n",
              "  <style>\n",
              "    .colab-df-container {\n",
              "      display:flex;\n",
              "      flex-wrap:wrap;\n",
              "      gap: 12px;\n",
              "    }\n",
              "\n",
              "    .colab-df-convert {\n",
              "      background-color: #E8F0FE;\n",
              "      border: none;\n",
              "      border-radius: 50%;\n",
              "      cursor: pointer;\n",
              "      display: none;\n",
              "      fill: #1967D2;\n",
              "      height: 32px;\n",
              "      padding: 0 0 0 0;\n",
              "      width: 32px;\n",
              "    }\n",
              "\n",
              "    .colab-df-convert:hover {\n",
              "      background-color: #E2EBFA;\n",
              "      box-shadow: 0px 1px 2px rgba(60, 64, 67, 0.3), 0px 1px 3px 1px rgba(60, 64, 67, 0.15);\n",
              "      fill: #174EA6;\n",
              "    }\n",
              "\n",
              "    [theme=dark] .colab-df-convert {\n",
              "      background-color: #3B4455;\n",
              "      fill: #D2E3FC;\n",
              "    }\n",
              "\n",
              "    [theme=dark] .colab-df-convert:hover {\n",
              "      background-color: #434B5C;\n",
              "      box-shadow: 0px 1px 3px 1px rgba(0, 0, 0, 0.15);\n",
              "      filter: drop-shadow(0px 1px 2px rgba(0, 0, 0, 0.3));\n",
              "      fill: #FFFFFF;\n",
              "    }\n",
              "  </style>\n",
              "\n",
              "      <script>\n",
              "        const buttonEl =\n",
              "          document.querySelector('#df-d6f9b89c-6507-4e5b-9f4b-c09d92ba1fc3 button.colab-df-convert');\n",
              "        buttonEl.style.display =\n",
              "          google.colab.kernel.accessAllowed ? 'block' : 'none';\n",
              "\n",
              "        async function convertToInteractive(key) {\n",
              "          const element = document.querySelector('#df-d6f9b89c-6507-4e5b-9f4b-c09d92ba1fc3');\n",
              "          const dataTable =\n",
              "            await google.colab.kernel.invokeFunction('convertToInteractive',\n",
              "                                                     [key], {});\n",
              "          if (!dataTable) return;\n",
              "\n",
              "          const docLinkHtml = 'Like what you see? Visit the ' +\n",
              "            '<a target=\"_blank\" href=https://colab.research.google.com/notebooks/data_table.ipynb>data table notebook</a>'\n",
              "            + ' to learn more about interactive tables.';\n",
              "          element.innerHTML = '';\n",
              "          dataTable['output_type'] = 'display_data';\n",
              "          await google.colab.output.renderOutput(dataTable, element);\n",
              "          const docLink = document.createElement('div');\n",
              "          docLink.innerHTML = docLinkHtml;\n",
              "          element.appendChild(docLink);\n",
              "        }\n",
              "      </script>\n",
              "    </div>\n",
              "  </div>\n",
              "  "
            ]
          },
          "metadata": {},
          "execution_count": 10
        }
      ],
      "source": [
        "df.head()"
      ]
    },
    {
      "cell_type": "code",
      "execution_count": 11,
      "metadata": {
        "colab": {
          "base_uri": "https://localhost:8080/"
        },
        "id": "CcqQJQ0tZU6f",
        "outputId": "07357b97-1065-4661-e3f6-755ffcd914e3"
      },
      "outputs": [
        {
          "output_type": "execute_result",
          "data": {
            "text/plain": [
              "1    39105\n",
              "0    32815\n",
              "Name: target, dtype: int64"
            ]
          },
          "metadata": {},
          "execution_count": 11
        }
      ],
      "source": [
        "df['target'].value_counts()"
      ]
    },
    {
      "cell_type": "code",
      "execution_count": 12,
      "metadata": {
        "colab": {
          "base_uri": "https://localhost:8080/",
          "height": 279
        },
        "id": "PWHZozVRZcJW",
        "outputId": "d9f4bf98-a49d-4b7c-aacb-ac97f5422338"
      },
      "outputs": [
        {
          "output_type": "execute_result",
          "data": {
            "text/plain": [
              "<matplotlib.axes._subplots.AxesSubplot at 0x7f614e275e10>"
            ]
          },
          "metadata": {},
          "execution_count": 12
        },
        {
          "output_type": "display_data",
          "data": {
            "text/plain": [
              "<Figure size 432x288 with 1 Axes>"
            ],
            "image/png": "[encoded data removed]"
          },
          "metadata": {
            "needs_background": "light"
          }
        }
      ],
      "source": [
        "df['target'].value_counts().plot(kind='bar')"
      ]
    },
    {
      "cell_type": "markdown",
      "metadata": {
        "id": "r9FI7bqa4swM"
      },
      "source": [
        ""
      ]
    },
    {
      "cell_type": "code",
      "execution_count": 13,
      "metadata": {
        "colab": {
          "base_uri": "https://localhost:8080/"
        },
        "id": "yP9yvlyIZnw-",
        "outputId": "2f0e053e-fa97-490f-ef4c-3141b29b04ca"
      },
      "outputs": [
        {
          "output_type": "execute_result",
          "data": {
            "text/plain": [
              "age           4048\n",
              "sex              0\n",
              "cp               2\n",
              "trestbps         0\n",
              "chol             0\n",
              "fbs              0\n",
              "restecg          0\n",
              "thalach          0\n",
              "exang            0\n",
              "slope            0\n",
              "ca               0\n",
              "thal             0\n",
              "hla              0\n",
              "bloodgroup       0\n",
              "serum            0\n",
              "smoking          0\n",
              "drining          0\n",
              "target           0\n",
              "dtype: int64"
            ]
          },
          "metadata": {},
          "execution_count": 13
        }
      ],
      "source": [
        "df.isna().sum()"
      ]
    },
    {
      "cell_type": "code",
      "execution_count": 14,
      "metadata": {
        "colab": {
          "base_uri": "https://localhost:8080/"
        },
        "id": "DCpDgENU7vB_",
        "outputId": "e5aef58b-8470-45db-9794-0ab02db87c94"
      },
      "outputs": [
        {
          "output_type": "execute_result",
          "data": {
            "text/plain": [
              "age           0\n",
              "sex           0\n",
              "cp            0\n",
              "trestbps      0\n",
              "chol          0\n",
              "fbs           0\n",
              "restecg       0\n",
              "thalach       0\n",
              "exang         0\n",
              "slope         0\n",
              "ca            0\n",
              "thal          0\n",
              "hla           0\n",
              "bloodgroup    0\n",
              "serum         0\n",
              "smoking       0\n",
              "drining       0\n",
              "target        0\n",
              "dtype: int64"
            ]
          },
          "metadata": {},
          "execution_count": 14
        }
      ],
      "source": [
        "df['cp'] = df['cp'].fillna(df['cp'].mean()) \n",
        "df['age'] = df['age'].fillna(df['age'].mean())\n",
        "df.isna().sum()"
      ]
    },
    {
      "cell_type": "code",
      "execution_count": 15,
      "metadata": {
        "colab": {
          "base_uri": "https://localhost:8080/",
          "height": 143
        },
        "id": "5R7Pw_5ZaeID",
        "outputId": "2bbd2a7f-26d9-4a20-dbfd-b16f5543b4d3"
      },
      "outputs": [
        {
          "output_type": "execute_result",
          "data": {
            "text/plain": [
              "target      0      1\n",
              "sex                 \n",
              "0        5708  17064\n",
              "1       27107  22041"
            ],
            "text/html": [
              "\n",
              "  <div id=\"df-9f4f4118-b7a3-42fa-bc81-912679db87b6\">\n",
              "    <div class=\"colab-df-container\">\n",
              "      <div>\n",
              "<style scoped>\n",
              "    .dataframe tbody tr th:only-of-type {\n",
              "        vertical-align: middle;\n",
              "    }\n",
              "\n",
              "    .dataframe tbody tr th {\n",
              "        vertical-align: top;\n",
              "    }\n",
              "\n",
              "    .dataframe thead th {\n",
              "        text-align: right;\n",
              "    }\n",
              "</style>\n",
              "<table border=\"1\" class=\"dataframe\">\n",
              "  <thead>\n",
              "    <tr style=\"text-align: right;\">\n",
              "      <th>target</th>\n",
              "      <th>0</th>\n",
              "      <th>1</th>\n",
              "    </tr>\n",
              "    <tr>\n",
              "      <th>sex</th>\n",
              "      <th></th>\n",
              "      <th></th>\n",
              "    </tr>\n",
              "  </thead>\n",
              "  <tbody>\n",
              "    <tr>\n",
              "      <th>0</th>\n",
              "      <td>5708</td>\n",
              "      <td>17064</td>\n",
              "    </tr>\n",
              "    <tr>\n",
              "      <th>1</th>\n",
              "      <td>27107</td>\n",
              "      <td>22041</td>\n",
              "    </tr>\n",
              "  </tbody>\n",
              "</table>\n",
              "</div>\n",
              "      <button class=\"colab-df-convert\" onclick=\"convertToInteractive('df-9f4f4118-b7a3-42fa-bc81-912679db87b6')\"\n",
              "              title=\"Convert this dataframe to an interactive table.\"\n",
              "              style=\"display:none;\">\n",
              "        \n",
              "  <svg xmlns=\"http://www.w3.org/2000/svg\" height=\"24px\"viewBox=\"0 0 24 24\"\n",
              "       width=\"24px\">\n",
              "    <path d=\"M0 0h24v24H0V0z\" fill=\"none\"/>\n",
              "    <path d=\"M18.56 5.44l.94 2.06.94-2.06 2.06-.94-2.06-.94-.94-2.06-.94 2.06-2.06.94zm-11 1L8.5 8.5l.94-2.06 2.06-.94-2.06-.94L8.5 2.5l-.94 2.06-2.06.94zm10 10l.94 2.06.94-2.06 2.06-.94-2.06-.94-.94-2.06-.94 2.06-2.06.94z\"/><path d=\"M17.41 7.96l-1.37-1.37c-.4-.4-.92-.59-1.43-.59-.52 0-1.04.2-1.43.59L10.3 9.45l-7.72 7.72c-.78.78-.78 2.05 0 2.83L4 21.41c.39.39.9.59 1.41.59.51 0 1.02-.2 1.41-.59l7.78-7.78 2.81-2.81c.8-.78.8-2.07 0-2.86zM5.41 20L4 18.59l7.72-7.72 1.47 1.35L5.41 20z\"/>\n",
              "  </svg>\n",
              "      </button>\n",
              "      \n",
              "  <style>\n",
              "    .colab-df-container {\n",
              "      display:flex;\n",
              "      flex-wrap:wrap;\n",
              "      gap: 12px;\n",
              "    }\n",
              "\n",
              "    .colab-df-convert {\n",
              "      background-color: #E8F0FE;\n",
              "      border: none;\n",
              "      border-radius: 50%;\n",
              "      cursor: pointer;\n",
              "      display: none;\n",
              "      fill: #1967D2;\n",
              "      height: 32px;\n",
              "      padding: 0 0 0 0;\n",
              "      width: 32px;\n",
              "    }\n",
              "\n",
              "    .colab-df-convert:hover {\n",
              "      background-color: #E2EBFA;\n",
              "      box-shadow: 0px 1px 2px rgba(60, 64, 67, 0.3), 0px 1px 3px 1px rgba(60, 64, 67, 0.15);\n",
              "      fill: #174EA6;\n",
              "    }\n",
              "\n",
              "    [theme=dark] .colab-df-convert {\n",
              "      background-color: #3B4455;\n",
              "      fill: #D2E3FC;\n",
              "    }\n",
              "\n",
              "    [theme=dark] .colab-df-convert:hover {\n",
              "      background-color: #434B5C;\n",
              "      box-shadow: 0px 1px 3px 1px rgba(0, 0, 0, 0.15);\n",
              "      filter: drop-shadow(0px 1px 2px rgba(0, 0, 0, 0.3));\n",
              "      fill: #FFFFFF;\n",
              "    }\n",
              "  </style>\n",
              "\n",
              "      <script>\n",
              "        const buttonEl =\n",
              "          document.querySelector('#df-9f4f4118-b7a3-42fa-bc81-912679db87b6 button.colab-df-convert');\n",
              "        buttonEl.style.display =\n",
              "          google.colab.kernel.accessAllowed ? 'block' : 'none';\n",
              "\n",
              "        async function convertToInteractive(key) {\n",
              "          const element = document.querySelector('#df-9f4f4118-b7a3-42fa-bc81-912679db87b6');\n",
              "          const dataTable =\n",
              "            await google.colab.kernel.invokeFunction('convertToInteractive',\n",
              "                                                     [key], {});\n",
              "          if (!dataTable) return;\n",
              "\n",
              "          const docLinkHtml = 'Like what you see? Visit the ' +\n",
              "            '<a target=\"_blank\" href=https://colab.research.google.com/notebooks/data_table.ipynb>data table notebook</a>'\n",
              "            + ' to learn more about interactive tables.';\n",
              "          element.innerHTML = '';\n",
              "          dataTable['output_type'] = 'display_data';\n",
              "          await google.colab.output.renderOutput(dataTable, element);\n",
              "          const docLink = document.createElement('div');\n",
              "          docLink.innerHTML = docLinkHtml;\n",
              "          element.appendChild(docLink);\n",
              "        }\n",
              "      </script>\n",
              "    </div>\n",
              "  </div>\n",
              "  "
            ]
          },
          "metadata": {},
          "execution_count": 15
        }
      ],
      "source": [
        "pd.crosstab(df.sex,df.target)"
      ]
    },
    {
      "cell_type": "code",
      "execution_count": 16,
      "metadata": {
        "colab": {
          "base_uri": "https://localhost:8080/",
          "height": 293
        },
        "id": "jkvyURKmn36h",
        "outputId": "b2d91162-ca88-41a0-e3e1-9924d066ea7e"
      },
      "outputs": [
        {
          "output_type": "execute_result",
          "data": {
            "text/plain": [
              "<matplotlib.axes._subplots.AxesSubplot at 0x7f614e1c8790>"
            ]
          },
          "metadata": {},
          "execution_count": 16
        },
        {
          "output_type": "display_data",
          "data": {
            "text/plain": [
              "<Figure size 432x288 with 1 Axes>"
            ],
            "image/png": "[encoded data removed]"
          },
          "metadata": {
            "needs_background": "light"
          }
        }
      ],
      "source": [
        " pd.crosstab(df.target,df.sex).plot(kind='bar')"
      ]
    },
    {
      "cell_type": "code",
      "execution_count": 17,
      "metadata": {
        "colab": {
          "base_uri": "https://localhost:8080/",
          "height": 206
        },
        "id": "gcUK7oFLpxsy",
        "outputId": "172e0d83-9146-4dcc-8843-e5d594a056f4"
      },
      "outputs": [
        {
          "output_type": "execute_result",
          "data": {
            "text/plain": [
              "    age  sex   cp  trestbps  chol  fbs  restecg  thalach  exang  slope  ca  \\\n",
              "0  63.0    1  3.0       145   233    1        0      150      0      0   0   \n",
              "1  37.0    1  2.0       130   250    0        1      187      0      0   0   \n",
              "2  41.0    0  1.0       130   204    0        0      172      0      2   0   \n",
              "3  56.0    1  1.0       120   236    0        1      178      0      2   0   \n",
              "4  57.0    0  0.0       120   354    0        1      163      1      2   0   \n",
              "\n",
              "   thal  hla  bloodgroup  serum  smoking  drining  target  \n",
              "0     1    0           1    4.0        0        1       1  \n",
              "1     2    0           2    3.5        1        0       1  \n",
              "2     2    0           2    1.4        0        0       1  \n",
              "3     2    0           2    0.8        0        0       1  \n",
              "4     2    1           2    0.6        1        0       1  "
            ],
            "text/html": [
              "\n",
              "  <div id=\"df-82eb0153-8b71-43a4-b9a1-a356b28ab55a\">\n",
              "    <div class=\"colab-df-container\">\n",
              "      <div>\n",
              "<style scoped>\n",
              "    .dataframe tbody tr th:only-of-type {\n",
              "        vertical-align: middle;\n",
              "    }\n",
              "\n",
              "    .dataframe tbody tr th {\n",
              "        vertical-align: top;\n",
              "    }\n",
              "\n",
              "    .dataframe thead th {\n",
              "        text-align: right;\n",
              "    }\n",
              "</style>\n",
              "<table border=\"1\" class=\"dataframe\">\n",
              "  <thead>\n",
              "    <tr style=\"text-align: right;\">\n",
              "      <th></th>\n",
              "      <th>age</th>\n",
              "      <th>sex</th>\n",
              "      <th>cp</th>\n",
              "      <th>trestbps</th>\n",
              "      <th>chol</th>\n",
              "      <th>fbs</th>\n",
              "      <th>restecg</th>\n",
              "      <th>thalach</th>\n",
              "      <th>exang</th>\n",
              "      <th>slope</th>\n",
              "      <th>ca</th>\n",
              "      <th>thal</th>\n",
              "      <th>hla</th>\n",
              "      <th>bloodgroup</th>\n",
              "      <th>serum</th>\n",
              "      <th>smoking</th>\n",
              "      <th>drining</th>\n",
              "      <th>target</th>\n",
              "    </tr>\n",
              "  </thead>\n",
              "  <tbody>\n",
              "    <tr>\n",
              "      <th>0</th>\n",
              "      <td>63.0</td>\n",
              "      <td>1</td>\n",
              "      <td>3.0</td>\n",
              "      <td>145</td>\n",
              "      <td>233</td>\n",
              "      <td>1</td>\n",
              "      <td>0</td>\n",
              "      <td>150</td>\n",
              "      <td>0</td>\n",
              "      <td>0</td>\n",
              "      <td>0</td>\n",
              "      <td>1</td>\n",
              "      <td>0</td>\n",
              "      <td>1</td>\n",
              "      <td>4.0</td>\n",
              "      <td>0</td>\n",
              "      <td>1</td>\n",
              "      <td>1</td>\n",
              "    </tr>\n",
              "    <tr>\n",
              "      <th>1</th>\n",
              "      <td>37.0</td>\n",
              "      <td>1</td>\n",
              "      <td>2.0</td>\n",
              "      <td>130</td>\n",
              "      <td>250</td>\n",
              "      <td>0</td>\n",
              "      <td>1</td>\n",
              "      <td>187</td>\n",
              "      <td>0</td>\n",
              "      <td>0</td>\n",
              "      <td>0</td>\n",
              "      <td>2</td>\n",
              "      <td>0</td>\n",
              "      <td>2</td>\n",
              "      <td>3.5</td>\n",
              "      <td>1</td>\n",
              "      <td>0</td>\n",
              "      <td>1</td>\n",
              "    </tr>\n",
              "    <tr>\n",
              "      <th>2</th>\n",
              "      <td>41.0</td>\n",
              "      <td>0</td>\n",
              "      <td>1.0</td>\n",
              "      <td>130</td>\n",
              "      <td>204</td>\n",
              "      <td>0</td>\n",
              "      <td>0</td>\n",
              "      <td>172</td>\n",
              "      <td>0</td>\n",
              "      <td>2</td>\n",
              "      <td>0</td>\n",
              "      <td>2</td>\n",
              "      <td>0</td>\n",
              "      <td>2</td>\n",
              "      <td>1.4</td>\n",
              "      <td>0</td>\n",
              "      <td>0</td>\n",
              "      <td>1</td>\n",
              "    </tr>\n",
              "    <tr>\n",
              "      <th>3</th>\n",
              "      <td>56.0</td>\n",
              "      <td>1</td>\n",
              "      <td>1.0</td>\n",
              "      <td>120</td>\n",
              "      <td>236</td>\n",
              "      <td>0</td>\n",
              "      <td>1</td>\n",
              "      <td>178</td>\n",
              "      <td>0</td>\n",
              "      <td>2</td>\n",
              "      <td>0</td>\n",
              "      <td>2</td>\n",
              "      <td>0</td>\n",
              "      <td>2</td>\n",
              "      <td>0.8</td>\n",
              "      <td>0</td>\n",
              "      <td>0</td>\n",
              "      <td>1</td>\n",
              "    </tr>\n",
              "    <tr>\n",
              "      <th>4</th>\n",
              "      <td>57.0</td>\n",
              "      <td>0</td>\n",
              "      <td>0.0</td>\n",
              "      <td>120</td>\n",
              "      <td>354</td>\n",
              "      <td>0</td>\n",
              "      <td>1</td>\n",
              "      <td>163</td>\n",
              "      <td>1</td>\n",
              "      <td>2</td>\n",
              "      <td>0</td>\n",
              "      <td>2</td>\n",
              "      <td>1</td>\n",
              "      <td>2</td>\n",
              "      <td>0.6</td>\n",
              "      <td>1</td>\n",
              "      <td>0</td>\n",
              "      <td>1</td>\n",
              "    </tr>\n",
              "  </tbody>\n",
              "</table>\n",
              "</div>\n",
              "      <button class=\"colab-df-convert\" onclick=\"convertToInteractive('df-82eb0153-8b71-43a4-b9a1-a356b28ab55a')\"\n",
              "              title=\"Convert this dataframe to an interactive table.\"\n",
              "              style=\"display:none;\">\n",
              "        \n",
              "  <svg xmlns=\"http://www.w3.org/2000/svg\" height=\"24px\"viewBox=\"0 0 24 24\"\n",
              "       width=\"24px\">\n",
              "    <path d=\"M0 0h24v24H0V0z\" fill=\"none\"/>\n",
              "    <path d=\"M18.56 5.44l.94 2.06.94-2.06 2.06-.94-2.06-.94-.94-2.06-.94 2.06-2.06.94zm-11 1L8.5 8.5l.94-2.06 2.06-.94-2.06-.94L8.5 2.5l-.94 2.06-2.06.94zm10 10l.94 2.06.94-2.06 2.06-.94-2.06-.94-.94-2.06-.94 2.06-2.06.94z\"/><path d=\"M17.41 7.96l-1.37-1.37c-.4-.4-.92-.59-1.43-.59-.52 0-1.04.2-1.43.59L10.3 9.45l-7.72 7.72c-.78.78-.78 2.05 0 2.83L4 21.41c.39.39.9.59 1.41.59.51 0 1.02-.2 1.41-.59l7.78-7.78 2.81-2.81c.8-.78.8-2.07 0-2.86zM5.41 20L4 18.59l7.72-7.72 1.47 1.35L5.41 20z\"/>\n",
              "  </svg>\n",
              "      </button>\n",
              "      \n",
              "  <style>\n",
              "    .colab-df-container {\n",
              "      display:flex;\n",
              "      flex-wrap:wrap;\n",
              "      gap: 12px;\n",
              "    }\n",
              "\n",
              "    .colab-df-convert {\n",
              "      background-color: #E8F0FE;\n",
              "      border: none;\n",
              "      border-radius: 50%;\n",
              "      cursor: pointer;\n",
              "      display: none;\n",
              "      fill: #1967D2;\n",
              "      height: 32px;\n",
              "      padding: 0 0 0 0;\n",
              "      width: 32px;\n",
              "    }\n",
              "\n",
              "    .colab-df-convert:hover {\n",
              "      background-color: #E2EBFA;\n",
              "      box-shadow: 0px 1px 2px rgba(60, 64, 67, 0.3), 0px 1px 3px 1px rgba(60, 64, 67, 0.15);\n",
              "      fill: #174EA6;\n",
              "    }\n",
              "\n",
              "    [theme=dark] .colab-df-convert {\n",
              "      background-color: #3B4455;\n",
              "      fill: #D2E3FC;\n",
              "    }\n",
              "\n",
              "    [theme=dark] .colab-df-convert:hover {\n",
              "      background-color: #434B5C;\n",
              "      box-shadow: 0px 1px 3px 1px rgba(0, 0, 0, 0.15);\n",
              "      filter: drop-shadow(0px 1px 2px rgba(0, 0, 0, 0.3));\n",
              "      fill: #FFFFFF;\n",
              "    }\n",
              "  </style>\n",
              "\n",
              "      <script>\n",
              "        const buttonEl =\n",
              "          document.querySelector('#df-82eb0153-8b71-43a4-b9a1-a356b28ab55a button.colab-df-convert');\n",
              "        buttonEl.style.display =\n",
              "          google.colab.kernel.accessAllowed ? 'block' : 'none';\n",
              "\n",
              "        async function convertToInteractive(key) {\n",
              "          const element = document.querySelector('#df-82eb0153-8b71-43a4-b9a1-a356b28ab55a');\n",
              "          const dataTable =\n",
              "            await google.colab.kernel.invokeFunction('convertToInteractive',\n",
              "                                                     [key], {});\n",
              "          if (!dataTable) return;\n",
              "\n",
              "          const docLinkHtml = 'Like what you see? Visit the ' +\n",
              "            '<a target=\"_blank\" href=https://colab.research.google.com/notebooks/data_table.ipynb>data table notebook</a>'\n",
              "            + ' to learn more about interactive tables.';\n",
              "          element.innerHTML = '';\n",
              "          dataTable['output_type'] = 'display_data';\n",
              "          await google.colab.output.renderOutput(dataTable, element);\n",
              "          const docLink = document.createElement('div');\n",
              "          docLink.innerHTML = docLinkHtml;\n",
              "          element.appendChild(docLink);\n",
              "        }\n",
              "      </script>\n",
              "    </div>\n",
              "  </div>\n",
              "  "
            ]
          },
          "metadata": {},
          "execution_count": 17
        }
      ],
      "source": [
        "df.head(\n",
        "  \n",
        ")"
      ]
    },
    {
      "cell_type": "code",
      "execution_count": 18,
      "metadata": {
        "colab": {
          "base_uri": "https://localhost:8080/",
          "height": 282
        },
        "id": "UOEG9NJIvlfH",
        "outputId": "38dfbcce-8c42-4679-ebc5-e908a45f22a1"
      },
      "outputs": [
        {
          "output_type": "execute_result",
          "data": {
            "text/plain": [
              "<matplotlib.collections.PathCollection at 0x7f614dc769d0>"
            ]
          },
          "metadata": {},
          "execution_count": 18
        },
        {
          "output_type": "display_data",
          "data": {
            "text/plain": [
              "<Figure size 432x288 with 1 Axes>"
            ],
            "image/png": "[encoded data removed]"
          },
          "metadata": {
            "needs_background": "light"
          }
        }
      ],
      "source": [
        "plt.scatter(df.age[df.target==1],\n",
        "            df.thalach[df.target==1])\n",
        "plt.scatter(df.age[df.target==0],\n",
        "            df.thalach[df.target==0])\n"
      ]
    },
    {
      "cell_type": "code",
      "execution_count": 19,
      "metadata": {
        "colab": {
          "base_uri": "https://localhost:8080/",
          "height": 282
        },
        "id": "Qtokd0R6v5gA",
        "outputId": "3deda138-7e72-432a-9161-337a186d26a3"
      },
      "outputs": [
        {
          "output_type": "execute_result",
          "data": {
            "text/plain": [
              "<matplotlib.axes._subplots.AxesSubplot at 0x7f614dc3e450>"
            ]
          },
          "metadata": {},
          "execution_count": 19
        },
        {
          "output_type": "display_data",
          "data": {
            "text/plain": [
              "<Figure size 432x288 with 1 Axes>"
            ],
            "image/png": "[encoded data removed]"
          },
          "metadata": {
            "needs_background": "light"
          }
        }
      ],
      "source": [
        "df.age.plot.hist()"
      ]
    },
    {
      "cell_type": "code",
      "execution_count": 20,
      "metadata": {
        "colab": {
          "base_uri": "https://localhost:8080/",
          "height": 614
        },
        "id": "oO576MNrwFX2",
        "outputId": "557766bc-ac3c-4f36-c007-601a40bb0055"
      },
      "outputs": [
        {
          "output_type": "execute_result",
          "data": {
            "text/plain": [
              "                 age       sex        cp  trestbps      chol       fbs  \\\n",
              "age         1.000000 -0.095652 -0.066609  0.271311  0.207587  0.117832   \n",
              "sex        -0.095652  1.000000 -0.049351 -0.056996 -0.197861  0.044787   \n",
              "cp         -0.066609 -0.049351  1.000000  0.047450 -0.076913  0.094213   \n",
              "trestbps    0.271311 -0.056996  0.047450  1.000000  0.123155  0.177658   \n",
              "chol        0.207587 -0.197861 -0.076913  0.123155  1.000000  0.013410   \n",
              "fbs         0.117832  0.044787  0.094213  0.177658  0.013410  1.000000   \n",
              "restecg    -0.112884 -0.058259  0.044377 -0.114120 -0.151012 -0.084306   \n",
              "thalach    -0.387030 -0.044387  0.295750 -0.046626 -0.009881 -0.008627   \n",
              "exang       0.094011  0.141534 -0.394587  0.067697  0.067144  0.025701   \n",
              "slope      -0.164001 -0.030611  0.119844 -0.121635 -0.004147 -0.059986   \n",
              "ca          0.268382  0.118212 -0.181214  0.101325  0.070690  0.138134   \n",
              "thal        0.066039  0.209848 -0.161792  0.062378  0.098992 -0.032162   \n",
              "hla         0.094011  0.141534 -0.394587  0.067697  0.067144  0.025701   \n",
              "bloodgroup  0.075316  0.127961 -0.132410  0.063269  0.085138 -0.081073   \n",
              "serum       0.206595  0.098374 -0.138636  0.195203  0.052316  0.017175   \n",
              "smoking     0.092146  0.141583 -0.391241  0.066765  0.066550  0.025617   \n",
              "drining     0.117832  0.044787  0.094213  0.177658  0.013410  1.000000   \n",
              "target     -0.218970 -0.280992  0.433797 -0.145036 -0.085277 -0.028116   \n",
              "\n",
              "             restecg   thalach     exang     slope        ca      thal  \\\n",
              "age        -0.112884 -0.387030  0.094011 -0.164001  0.268382  0.066039   \n",
              "sex        -0.058259 -0.044387  0.141534 -0.030611  0.118212  0.209848   \n",
              "cp          0.044377  0.295750 -0.394587  0.119844 -0.181214 -0.161792   \n",
              "trestbps   -0.114120 -0.046626  0.067697 -0.121635  0.101325  0.062378   \n",
              "chol       -0.151012 -0.009881  0.067144 -0.004147  0.070690  0.098992   \n",
              "fbs        -0.084306 -0.008627  0.025701 -0.059986  0.138134 -0.032162   \n",
              "restecg     1.000000  0.043836 -0.070546  0.092787 -0.072225 -0.012065   \n",
              "thalach     0.043836  1.000000 -0.378850  0.386863 -0.213201 -0.096392   \n",
              "exang      -0.070546 -0.378850  1.000000 -0.257890  0.115624  0.206693   \n",
              "slope       0.092787  0.386863 -0.257890  1.000000 -0.080242 -0.104675   \n",
              "ca         -0.072225 -0.213201  0.115624 -0.080242  1.000000  0.151664   \n",
              "thal       -0.012065 -0.096392  0.206693 -0.104675  0.151664  1.000000   \n",
              "hla        -0.070546 -0.378850  1.000000 -0.257890  0.115624  0.206693   \n",
              "bloodgroup -0.003863 -0.024421  0.111846 -0.066648  0.069169  0.814841   \n",
              "serum      -0.062761 -0.341110  0.282385 -0.583507  0.217396  0.197983   \n",
              "smoking    -0.068382 -0.376886  0.996473 -0.257417  0.113113  0.205515   \n",
              "drining    -0.084306 -0.008627  0.025701 -0.059986  0.138134 -0.032162   \n",
              "target      0.137093  0.421831 -0.436731  0.345920 -0.391743 -0.343891   \n",
              "\n",
              "                 hla  bloodgroup     serum   smoking   drining    target  \n",
              "age         0.094011    0.075316  0.206595  0.092146  0.117832 -0.218970  \n",
              "sex         0.141534    0.127961  0.098374  0.141583  0.044787 -0.280992  \n",
              "cp         -0.394587   -0.132410 -0.138636 -0.391241  0.094213  0.433797  \n",
              "trestbps    0.067697    0.063269  0.195203  0.066765  0.177658 -0.145036  \n",
              "chol        0.067144    0.085138  0.052316  0.066550  0.013410 -0.085277  \n",
              "fbs         0.025701   -0.081073  0.017175  0.025617  1.000000 -0.028116  \n",
              "restecg    -0.070546   -0.003863 -0.062761 -0.068382 -0.084306  0.137093  \n",
              "thalach    -0.378850   -0.024421 -0.341110 -0.376886 -0.008627  0.421831  \n",
              "exang       1.000000    0.111846  0.282385  0.996473  0.025701 -0.436731  \n",
              "slope      -0.257890   -0.066648 -0.583507 -0.257417 -0.059986  0.345920  \n",
              "ca          0.115624    0.069169  0.217396  0.113113  0.138134 -0.391743  \n",
              "thal        0.206693    0.814841  0.197983  0.205515 -0.032162 -0.343891  \n",
              "hla         1.000000    0.111846  0.282385  0.996473  0.025701 -0.436731  \n",
              "bloodgroup  0.111846    1.000000  0.152034  0.110480 -0.081073 -0.183703  \n",
              "serum       0.282385    0.152034  1.000000  0.281952  0.017175 -0.422439  \n",
              "smoking     0.996473    0.110480  0.281952  1.000000  0.025617 -0.433163  \n",
              "drining     0.025701   -0.081073  0.017175  0.025617  1.000000 -0.028116  \n",
              "target     -0.436731   -0.183703 -0.422439 -0.433163 -0.028116  1.000000  "
            ],
            "text/html": [
              "\n",
              "  <div id=\"df-62cfecfb-cb18-4098-ae29-141f5bbb2501\">\n",
              "    <div class=\"colab-df-container\">\n",
              "      <div>\n",
              "<style scoped>\n",
              "    .dataframe tbody tr th:only-of-type {\n",
              "        vertical-align: middle;\n",
              "    }\n",
              "\n",
              "    .dataframe tbody tr th {\n",
              "        vertical-align: top;\n",
              "    }\n",
              "\n",
              "    .dataframe thead th {\n",
              "        text-align: right;\n",
              "    }\n",
              "</style>\n",
              "<table border=\"1\" class=\"dataframe\">\n",
              "  <thead>\n",
              "    <tr style=\"text-align: right;\">\n",
              "      <th></th>\n",
              "      <th>age</th>\n",
              "      <th>sex</th>\n",
              "      <th>cp</th>\n",
              "      <th>trestbps</th>\n",
              "      <th>chol</th>\n",
              "      <th>fbs</th>\n",
              "      <th>restecg</th>\n",
              "      <th>thalach</th>\n",
              "      <th>exang</th>\n",
              "      <th>slope</th>\n",
              "      <th>ca</th>\n",
              "      <th>thal</th>\n",
              "      <th>hla</th>\n",
              "      <th>bloodgroup</th>\n",
              "      <th>serum</th>\n",
              "      <th>smoking</th>\n",
              "      <th>drining</th>\n",
              "      <th>target</th>\n",
              "    </tr>\n",
              "  </thead>\n",
              "  <tbody>\n",
              "    <tr>\n",
              "      <th>age</th>\n",
              "      <td>1.000000</td>\n",
              "      <td>-0.095652</td>\n",
              "      <td>-0.066609</td>\n",
              "      <td>0.271311</td>\n",
              "      <td>0.207587</td>\n",
              "      <td>0.117832</td>\n",
              "      <td>-0.112884</td>\n",
              "      <td>-0.387030</td>\n",
              "      <td>0.094011</td>\n",
              "      <td>-0.164001</td>\n",
              "      <td>0.268382</td>\n",
              "      <td>0.066039</td>\n",
              "      <td>0.094011</td>\n",
              "      <td>0.075316</td>\n",
              "      <td>0.206595</td>\n",
              "      <td>0.092146</td>\n",
              "      <td>0.117832</td>\n",
              "      <td>-0.218970</td>\n",
              "    </tr>\n",
              "    <tr>\n",
              "      <th>sex</th>\n",
              "      <td>-0.095652</td>\n",
              "      <td>1.000000</td>\n",
              "      <td>-0.049351</td>\n",
              "      <td>-0.056996</td>\n",
              "      <td>-0.197861</td>\n",
              "      <td>0.044787</td>\n",
              "      <td>-0.058259</td>\n",
              "      <td>-0.044387</td>\n",
              "      <td>0.141534</td>\n",
              "      <td>-0.030611</td>\n",
              "      <td>0.118212</td>\n",
              "      <td>0.209848</td>\n",
              "      <td>0.141534</td>\n",
              "      <td>0.127961</td>\n",
              "      <td>0.098374</td>\n",
              "      <td>0.141583</td>\n",
              "      <td>0.044787</td>\n",
              "      <td>-0.280992</td>\n",
              "    </tr>\n",
              "    <tr>\n",
              "      <th>cp</th>\n",
              "      <td>-0.066609</td>\n",
              "      <td>-0.049351</td>\n",
              "      <td>1.000000</td>\n",
              "      <td>0.047450</td>\n",
              "      <td>-0.076913</td>\n",
              "      <td>0.094213</td>\n",
              "      <td>0.044377</td>\n",
              "      <td>0.295750</td>\n",
              "      <td>-0.394587</td>\n",
              "      <td>0.119844</td>\n",
              "      <td>-0.181214</td>\n",
              "      <td>-0.161792</td>\n",
              "      <td>-0.394587</td>\n",
              "      <td>-0.132410</td>\n",
              "      <td>-0.138636</td>\n",
              "      <td>-0.391241</td>\n",
              "      <td>0.094213</td>\n",
              "      <td>0.433797</td>\n",
              "    </tr>\n",
              "    <tr>\n",
              "      <th>trestbps</th>\n",
              "      <td>0.271311</td>\n",
              "      <td>-0.056996</td>\n",
              "      <td>0.047450</td>\n",
              "      <td>1.000000</td>\n",
              "      <td>0.123155</td>\n",
              "      <td>0.177658</td>\n",
              "      <td>-0.114120</td>\n",
              "      <td>-0.046626</td>\n",
              "      <td>0.067697</td>\n",
              "      <td>-0.121635</td>\n",
              "      <td>0.101325</td>\n",
              "      <td>0.062378</td>\n",
              "      <td>0.067697</td>\n",
              "      <td>0.063269</td>\n",
              "      <td>0.195203</td>\n",
              "      <td>0.066765</td>\n",
              "      <td>0.177658</td>\n",
              "      <td>-0.145036</td>\n",
              "    </tr>\n",
              "    <tr>\n",
              "      <th>chol</th>\n",
              "      <td>0.207587</td>\n",
              "      <td>-0.197861</td>\n",
              "      <td>-0.076913</td>\n",
              "      <td>0.123155</td>\n",
              "      <td>1.000000</td>\n",
              "      <td>0.013410</td>\n",
              "      <td>-0.151012</td>\n",
              "      <td>-0.009881</td>\n",
              "      <td>0.067144</td>\n",
              "      <td>-0.004147</td>\n",
              "      <td>0.070690</td>\n",
              "      <td>0.098992</td>\n",
              "      <td>0.067144</td>\n",
              "      <td>0.085138</td>\n",
              "      <td>0.052316</td>\n",
              "      <td>0.066550</td>\n",
              "      <td>0.013410</td>\n",
              "      <td>-0.085277</td>\n",
              "    </tr>\n",
              "    <tr>\n",
              "      <th>fbs</th>\n",
              "      <td>0.117832</td>\n",
              "      <td>0.044787</td>\n",
              "      <td>0.094213</td>\n",
              "      <td>0.177658</td>\n",
              "      <td>0.013410</td>\n",
              "      <td>1.000000</td>\n",
              "      <td>-0.084306</td>\n",
              "      <td>-0.008627</td>\n",
              "      <td>0.025701</td>\n",
              "      <td>-0.059986</td>\n",
              "      <td>0.138134</td>\n",
              "      <td>-0.032162</td>\n",
              "      <td>0.025701</td>\n",
              "      <td>-0.081073</td>\n",
              "      <td>0.017175</td>\n",
              "      <td>0.025617</td>\n",
              "      <td>1.000000</td>\n",
              "      <td>-0.028116</td>\n",
              "    </tr>\n",
              "    <tr>\n",
              "      <th>restecg</th>\n",
              "      <td>-0.112884</td>\n",
              "      <td>-0.058259</td>\n",
              "      <td>0.044377</td>\n",
              "      <td>-0.114120</td>\n",
              "      <td>-0.151012</td>\n",
              "      <td>-0.084306</td>\n",
              "      <td>1.000000</td>\n",
              "      <td>0.043836</td>\n",
              "      <td>-0.070546</td>\n",
              "      <td>0.092787</td>\n",
              "      <td>-0.072225</td>\n",
              "      <td>-0.012065</td>\n",
              "      <td>-0.070546</td>\n",
              "      <td>-0.003863</td>\n",
              "      <td>-0.062761</td>\n",
              "      <td>-0.068382</td>\n",
              "      <td>-0.084306</td>\n",
              "      <td>0.137093</td>\n",
              "    </tr>\n",
              "    <tr>\n",
              "      <th>thalach</th>\n",
              "      <td>-0.387030</td>\n",
              "      <td>-0.044387</td>\n",
              "      <td>0.295750</td>\n",
              "      <td>-0.046626</td>\n",
              "      <td>-0.009881</td>\n",
              "      <td>-0.008627</td>\n",
              "      <td>0.043836</td>\n",
              "      <td>1.000000</td>\n",
              "      <td>-0.378850</td>\n",
              "      <td>0.386863</td>\n",
              "      <td>-0.213201</td>\n",
              "      <td>-0.096392</td>\n",
              "      <td>-0.378850</td>\n",
              "      <td>-0.024421</td>\n",
              "      <td>-0.341110</td>\n",
              "      <td>-0.376886</td>\n",
              "      <td>-0.008627</td>\n",
              "      <td>0.421831</td>\n",
              "    </tr>\n",
              "    <tr>\n",
              "      <th>exang</th>\n",
              "      <td>0.094011</td>\n",
              "      <td>0.141534</td>\n",
              "      <td>-0.394587</td>\n",
              "      <td>0.067697</td>\n",
              "      <td>0.067144</td>\n",
              "      <td>0.025701</td>\n",
              "      <td>-0.070546</td>\n",
              "      <td>-0.378850</td>\n",
              "      <td>1.000000</td>\n",
              "      <td>-0.257890</td>\n",
              "      <td>0.115624</td>\n",
              "      <td>0.206693</td>\n",
              "      <td>1.000000</td>\n",
              "      <td>0.111846</td>\n",
              "      <td>0.282385</td>\n",
              "      <td>0.996473</td>\n",
              "      <td>0.025701</td>\n",
              "      <td>-0.436731</td>\n",
              "    </tr>\n",
              "    <tr>\n",
              "      <th>slope</th>\n",
              "      <td>-0.164001</td>\n",
              "      <td>-0.030611</td>\n",
              "      <td>0.119844</td>\n",
              "      <td>-0.121635</td>\n",
              "      <td>-0.004147</td>\n",
              "      <td>-0.059986</td>\n",
              "      <td>0.092787</td>\n",
              "      <td>0.386863</td>\n",
              "      <td>-0.257890</td>\n",
              "      <td>1.000000</td>\n",
              "      <td>-0.080242</td>\n",
              "      <td>-0.104675</td>\n",
              "      <td>-0.257890</td>\n",
              "      <td>-0.066648</td>\n",
              "      <td>-0.583507</td>\n",
              "      <td>-0.257417</td>\n",
              "      <td>-0.059986</td>\n",
              "      <td>0.345920</td>\n",
              "    </tr>\n",
              "    <tr>\n",
              "      <th>ca</th>\n",
              "      <td>0.268382</td>\n",
              "      <td>0.118212</td>\n",
              "      <td>-0.181214</td>\n",
              "      <td>0.101325</td>\n",
              "      <td>0.070690</td>\n",
              "      <td>0.138134</td>\n",
              "      <td>-0.072225</td>\n",
              "      <td>-0.213201</td>\n",
              "      <td>0.115624</td>\n",
              "      <td>-0.080242</td>\n",
              "      <td>1.000000</td>\n",
              "      <td>0.151664</td>\n",
              "      <td>0.115624</td>\n",
              "      <td>0.069169</td>\n",
              "      <td>0.217396</td>\n",
              "      <td>0.113113</td>\n",
              "      <td>0.138134</td>\n",
              "      <td>-0.391743</td>\n",
              "    </tr>\n",
              "    <tr>\n",
              "      <th>thal</th>\n",
              "      <td>0.066039</td>\n",
              "      <td>0.209848</td>\n",
              "      <td>-0.161792</td>\n",
              "      <td>0.062378</td>\n",
              "      <td>0.098992</td>\n",
              "      <td>-0.032162</td>\n",
              "      <td>-0.012065</td>\n",
              "      <td>-0.096392</td>\n",
              "      <td>0.206693</td>\n",
              "      <td>-0.104675</td>\n",
              "      <td>0.151664</td>\n",
              "      <td>1.000000</td>\n",
              "      <td>0.206693</td>\n",
              "      <td>0.814841</td>\n",
              "      <td>0.197983</td>\n",
              "      <td>0.205515</td>\n",
              "      <td>-0.032162</td>\n",
              "      <td>-0.343891</td>\n",
              "    </tr>\n",
              "    <tr>\n",
              "      <th>hla</th>\n",
              "      <td>0.094011</td>\n",
              "      <td>0.141534</td>\n",
              "      <td>-0.394587</td>\n",
              "      <td>0.067697</td>\n",
              "      <td>0.067144</td>\n",
              "      <td>0.025701</td>\n",
              "      <td>-0.070546</td>\n",
              "      <td>-0.378850</td>\n",
              "      <td>1.000000</td>\n",
              "      <td>-0.257890</td>\n",
              "      <td>0.115624</td>\n",
              "      <td>0.206693</td>\n",
              "      <td>1.000000</td>\n",
              "      <td>0.111846</td>\n",
              "      <td>0.282385</td>\n",
              "      <td>0.996473</td>\n",
              "      <td>0.025701</td>\n",
              "      <td>-0.436731</td>\n",
              "    </tr>\n",
              "    <tr>\n",
              "      <th>bloodgroup</th>\n",
              "      <td>0.075316</td>\n",
              "      <td>0.127961</td>\n",
              "      <td>-0.132410</td>\n",
              "      <td>0.063269</td>\n",
              "      <td>0.085138</td>\n",
              "      <td>-0.081073</td>\n",
              "      <td>-0.003863</td>\n",
              "      <td>-0.024421</td>\n",
              "      <td>0.111846</td>\n",
              "      <td>-0.066648</td>\n",
              "      <td>0.069169</td>\n",
              "      <td>0.814841</td>\n",
              "      <td>0.111846</td>\n",
              "      <td>1.000000</td>\n",
              "      <td>0.152034</td>\n",
              "      <td>0.110480</td>\n",
              "      <td>-0.081073</td>\n",
              "      <td>-0.183703</td>\n",
              "    </tr>\n",
              "    <tr>\n",
              "      <th>serum</th>\n",
              "      <td>0.206595</td>\n",
              "      <td>0.098374</td>\n",
              "      <td>-0.138636</td>\n",
              "      <td>0.195203</td>\n",
              "      <td>0.052316</td>\n",
              "      <td>0.017175</td>\n",
              "      <td>-0.062761</td>\n",
              "      <td>-0.341110</td>\n",
              "      <td>0.282385</td>\n",
              "      <td>-0.583507</td>\n",
              "      <td>0.217396</td>\n",
              "      <td>0.197983</td>\n",
              "      <td>0.282385</td>\n",
              "      <td>0.152034</td>\n",
              "      <td>1.000000</td>\n",
              "      <td>0.281952</td>\n",
              "      <td>0.017175</td>\n",
              "      <td>-0.422439</td>\n",
              "    </tr>\n",
              "    <tr>\n",
              "      <th>smoking</th>\n",
              "      <td>0.092146</td>\n",
              "      <td>0.141583</td>\n",
              "      <td>-0.391241</td>\n",
              "      <td>0.066765</td>\n",
              "      <td>0.066550</td>\n",
              "      <td>0.025617</td>\n",
              "      <td>-0.068382</td>\n",
              "      <td>-0.376886</td>\n",
              "      <td>0.996473</td>\n",
              "      <td>-0.257417</td>\n",
              "      <td>0.113113</td>\n",
              "      <td>0.205515</td>\n",
              "      <td>0.996473</td>\n",
              "      <td>0.110480</td>\n",
              "      <td>0.281952</td>\n",
              "      <td>1.000000</td>\n",
              "      <td>0.025617</td>\n",
              "      <td>-0.433163</td>\n",
              "    </tr>\n",
              "    <tr>\n",
              "      <th>drining</th>\n",
              "      <td>0.117832</td>\n",
              "      <td>0.044787</td>\n",
              "      <td>0.094213</td>\n",
              "      <td>0.177658</td>\n",
              "      <td>0.013410</td>\n",
              "      <td>1.000000</td>\n",
              "      <td>-0.084306</td>\n",
              "      <td>-0.008627</td>\n",
              "      <td>0.025701</td>\n",
              "      <td>-0.059986</td>\n",
              "      <td>0.138134</td>\n",
              "      <td>-0.032162</td>\n",
              "      <td>0.025701</td>\n",
              "      <td>-0.081073</td>\n",
              "      <td>0.017175</td>\n",
              "      <td>0.025617</td>\n",
              "      <td>1.000000</td>\n",
              "      <td>-0.028116</td>\n",
              "    </tr>\n",
              "    <tr>\n",
              "      <th>target</th>\n",
              "      <td>-0.218970</td>\n",
              "      <td>-0.280992</td>\n",
              "      <td>0.433797</td>\n",
              "      <td>-0.145036</td>\n",
              "      <td>-0.085277</td>\n",
              "      <td>-0.028116</td>\n",
              "      <td>0.137093</td>\n",
              "      <td>0.421831</td>\n",
              "      <td>-0.436731</td>\n",
              "      <td>0.345920</td>\n",
              "      <td>-0.391743</td>\n",
              "      <td>-0.343891</td>\n",
              "      <td>-0.436731</td>\n",
              "      <td>-0.183703</td>\n",
              "      <td>-0.422439</td>\n",
              "      <td>-0.433163</td>\n",
              "      <td>-0.028116</td>\n",
              "      <td>1.000000</td>\n",
              "    </tr>\n",
              "  </tbody>\n",
              "</table>\n",
              "</div>\n",
              "      <button class=\"colab-df-convert\" onclick=\"convertToInteractive('df-62cfecfb-cb18-4098-ae29-141f5bbb2501')\"\n",
              "              title=\"Convert this dataframe to an interactive table.\"\n",
              "              style=\"display:none;\">\n",
              "        \n",
              "  <svg xmlns=\"http://www.w3.org/2000/svg\" height=\"24px\"viewBox=\"0 0 24 24\"\n",
              "       width=\"24px\">\n",
              "    <path d=\"M0 0h24v24H0V0z\" fill=\"none\"/>\n",
              "    <path d=\"M18.56 5.44l.94 2.06.94-2.06 2.06-.94-2.06-.94-.94-2.06-.94 2.06-2.06.94zm-11 1L8.5 8.5l.94-2.06 2.06-.94-2.06-.94L8.5 2.5l-.94 2.06-2.06.94zm10 10l.94 2.06.94-2.06 2.06-.94-2.06-.94-.94-2.06-.94 2.06-2.06.94z\"/><path d=\"M17.41 7.96l-1.37-1.37c-.4-.4-.92-.59-1.43-.59-.52 0-1.04.2-1.43.59L10.3 9.45l-7.72 7.72c-.78.78-.78 2.05 0 2.83L4 21.41c.39.39.9.59 1.41.59.51 0 1.02-.2 1.41-.59l7.78-7.78 2.81-2.81c.8-.78.8-2.07 0-2.86zM5.41 20L4 18.59l7.72-7.72 1.47 1.35L5.41 20z\"/>\n",
              "  </svg>\n",
              "      </button>\n",
              "      \n",
              "  <style>\n",
              "    .colab-df-container {\n",
              "      display:flex;\n",
              "      flex-wrap:wrap;\n",
              "      gap: 12px;\n",
              "    }\n",
              "\n",
              "    .colab-df-convert {\n",
              "      background-color: #E8F0FE;\n",
              "      border: none;\n",
              "      border-radius: 50%;\n",
              "      cursor: pointer;\n",
              "      display: none;\n",
              "      fill: #1967D2;\n",
              "      height: 32px;\n",
              "      padding: 0 0 0 0;\n",
              "      width: 32px;\n",
              "    }\n",
              "\n",
              "    .colab-df-convert:hover {\n",
              "      background-color: #E2EBFA;\n",
              "      box-shadow: 0px 1px 2px rgba(60, 64, 67, 0.3), 0px 1px 3px 1px rgba(60, 64, 67, 0.15);\n",
              "      fill: #174EA6;\n",
              "    }\n",
              "\n",
              "    [theme=dark] .colab-df-convert {\n",
              "      background-color: #3B4455;\n",
              "      fill: #D2E3FC;\n",
              "    }\n",
              "\n",
              "    [theme=dark] .colab-df-convert:hover {\n",
              "      background-color: #434B5C;\n",
              "      box-shadow: 0px 1px 3px 1px rgba(0, 0, 0, 0.15);\n",
              "      filter: drop-shadow(0px 1px 2px rgba(0, 0, 0, 0.3));\n",
              "      fill: #FFFFFF;\n",
              "    }\n",
              "  </style>\n",
              "\n",
              "      <script>\n",
              "        const buttonEl =\n",
              "          document.querySelector('#df-62cfecfb-cb18-4098-ae29-141f5bbb2501 button.colab-df-convert');\n",
              "        buttonEl.style.display =\n",
              "          google.colab.kernel.accessAllowed ? 'block' : 'none';\n",
              "\n",
              "        async function convertToInteractive(key) {\n",
              "          const element = document.querySelector('#df-62cfecfb-cb18-4098-ae29-141f5bbb2501');\n",
              "          const dataTable =\n",
              "            await google.colab.kernel.invokeFunction('convertToInteractive',\n",
              "                                                     [key], {});\n",
              "          if (!dataTable) return;\n",
              "\n",
              "          const docLinkHtml = 'Like what you see? Visit the ' +\n",
              "            '<a target=\"_blank\" href=https://colab.research.google.com/notebooks/data_table.ipynb>data table notebook</a>'\n",
              "            + ' to learn more about interactive tables.';\n",
              "          element.innerHTML = '';\n",
              "          dataTable['output_type'] = 'display_data';\n",
              "          await google.colab.output.renderOutput(dataTable, element);\n",
              "          const docLink = document.createElement('div');\n",
              "          docLink.innerHTML = docLinkHtml;\n",
              "          element.appendChild(docLink);\n",
              "        }\n",
              "      </script>\n",
              "    </div>\n",
              "  </div>\n",
              "  "
            ]
          },
          "metadata": {},
          "execution_count": 20
        }
      ],
      "source": [
        "df.corr()"
      ]
    },
    {
      "cell_type": "code",
      "execution_count": 21,
      "metadata": {
        "colab": {
          "base_uri": "https://localhost:8080/",
          "height": 642
        },
        "id": "CjBNn00fxijX",
        "outputId": "bde04b14-0028-4b56-d562-d8517869f715"
      },
      "outputs": [
        {
          "output_type": "display_data",
          "data": {
            "text/plain": [
              "<Figure size 1080x720 with 2 Axes>"
            ],
            "image/png": "[encoded data removed]"
          },
          "metadata": {
            "needs_background": "light"
          }
        }
      ],
      "source": [
        "corr_matrix=df.corr()\n",
        "fig,ax=plt.subplots(figsize=(15,10))\n",
        "ax=sns.heatmap(corr_matrix,annot=True,linewidths=0.5,fmt='.2f',cmap='YlGnBu')"
      ]
    },
    {
      "cell_type": "markdown",
      "metadata": {
        "id": "QYZeO5uaAU_V"
      },
      "source": [
        "**predicting model using Logistic regression**"
      ]
    },
    {
      "cell_type": "code",
      "execution_count": 22,
      "metadata": {
        "id": "sYhbKDlsyIj6"
      },
      "outputs": [],
      "source": [
        "X=df.drop('target',axis=1)\n",
        "Y=df['target']\n"
      ]
    },
    {
      "cell_type": "code",
      "execution_count": 23,
      "metadata": {
        "id": "njX6TgZ6AJGp"
      },
      "outputs": [],
      "source": [
        "np.random.seed(42)\n",
        "x_train,x_test,y_train,y_test=train_test_split(X,Y,test_size=0.2\n",
        "                                               )\n"
      ]
    },
    {
      "cell_type": "code",
      "execution_count": 24,
      "metadata": {
        "id": "yVJ25PPpAWfC"
      },
      "outputs": [],
      "source": [
        "models={'logistic_reggression':LogisticRegression()}\n",
        "\n",
        "def fit_and_score(models,x_train,x_test,y_train,y_test):\n",
        "  np.random.seed(42)\n",
        "  model_scores = {}\n",
        "  for name ,model in models.items():\n",
        "    model.fit(x_train,y_train)\n",
        "    model_scores[name]=model.score(x_test,y_test)\n",
        "  return model_scores\n",
        "  \n",
        "\n"
      ]
    },
    {
      "cell_type": "code",
      "execution_count": 25,
      "metadata": {
        "colab": {
          "base_uri": "https://localhost:8080/"
        },
        "id": "Av7FN2EzD4EF",
        "outputId": "2b21a4b6-fd28-492b-a8ba-dc7eec27d52f"
      },
      "outputs": [
        {
          "output_type": "stream",
          "name": "stderr",
          "text": [
            "/usr/local/lib/python3.7/dist-packages/sklearn/linear_model/_logistic.py:818: ConvergenceWarning: lbfgs failed to converge (status=1):\n",
            "STOP: TOTAL NO. of ITERATIONS REACHED LIMIT.\n",
            "\n",
            "Increase the number of iterations (max_iter) or scale the data as shown in:\n",
            "    https://scikit-learn.org/stable/modules/preprocessing.html\n",
            "Please also refer to the documentation for alternative solver options:\n",
            "    https://scikit-learn.org/stable/modules/linear_model.html#logistic-regression\n",
            "  extra_warning_msg=_LOGISTIC_SOLVER_CONVERGENCE_MSG,\n"
          ]
        }
      ],
      "source": [
        "model_scores=fit_and_score(models=models,x_train=x_train,x_test=x_test,y_train=y_train,y_test=y_test)"
      ]
    },
    {
      "cell_type": "code",
      "execution_count": 25,
      "metadata": {
        "id": "j4adUOiQ9XwT"
      },
      "outputs": [],
      "source": [
        ""
      ]
    },
    {
      "cell_type": "code",
      "execution_count": 26,
      "metadata": {
        "colab": {
          "base_uri": "https://localhost:8080/"
        },
        "id": "1tC8gLI69sp7",
        "outputId": "d24a11e4-1d03-42c4-bc4b-8d3bf9b21720"
      },
      "outputs": [
        {
          "output_type": "execute_result",
          "data": {
            "text/plain": [
              "{'logistic_reggression': 0.8606090100111234}"
            ]
          },
          "metadata": {},
          "execution_count": 26
        }
      ],
      "source": [
        "model_scores"
      ]
    },
    {
      "cell_type": "code",
      "execution_count": 27,
      "metadata": {
        "colab": {
          "base_uri": "https://localhost:8080/",
          "height": 317
        },
        "id": "I_07VAhuD8AM",
        "outputId": "c288d227-4fda-4822-a532-7227836d17f1"
      },
      "outputs": [
        {
          "output_type": "execute_result",
          "data": {
            "text/plain": [
              "<matplotlib.axes._subplots.AxesSubplot at 0x7f614af69f90>"
            ]
          },
          "metadata": {},
          "execution_count": 27
        },
        {
          "output_type": "display_data",
          "data": {
            "text/plain": [
              "<Figure size 432x288 with 1 Axes>"
            ],
            "image/png": "[encoded data removed]"
          },
          "metadata": {
            "needs_background": "light"
          }
        }
      ],
      "source": [
        "model_compare=pd.DataFrame(model_scores,index=['accuracy'])\n",
        "model_compare.plot.bar()"
      ]
    },
    {
      "cell_type": "markdown",
      "metadata": {
        "id": "obRiIBEhBMx4"
      },
      "source": [
        "**BEST PARAMETER FINDING**"
      ]
    },
    {
      "cell_type": "code",
      "execution_count": 28,
      "metadata": {
        "id": "wnH1ZRIHfQs1"
      },
      "outputs": [],
      "source": [
        "log_reg_grid={'C':np.logspace(-4,4,20),'solver':['liblinear']}\n"
      ]
    },
    {
      "cell_type": "code",
      "execution_count": 29,
      "metadata": {
        "id": "tt_6tMjAA7Jz"
      },
      "outputs": [],
      "source": [
        "np.random.seed(42)\n",
        "rs_log_reg=RandomizedSearchCV(LogisticRegression(),\n",
        "                          param_distributions= log_reg_grid,n_iter=20,cv=5)"
      ]
    },
    {
      "cell_type": "code",
      "execution_count": 30,
      "metadata": {
        "colab": {
          "base_uri": "https://localhost:8080/"
        },
        "id": "uJDk9U9oN7xn",
        "outputId": "028bc0bf-f774-46ed-848c-90e5f5c838d4"
      },
      "outputs": [
        {
          "output_type": "execute_result",
          "data": {
            "text/plain": [
              "RandomizedSearchCV(cv=5, estimator=LogisticRegression(), n_iter=20,\n",
              "                   param_distributions={'C': array([1.00000000e-04, 2.63665090e-04, 6.95192796e-04, 1.83298071e-03,\n",
              "       4.83293024e-03, 1.27427499e-02, 3.35981829e-02, 8.85866790e-02,\n",
              "       2.33572147e-01, 6.15848211e-01, 1.62377674e+00, 4.28133240e+00,\n",
              "       1.12883789e+01, 2.97635144e+01, 7.84759970e+01, 2.06913808e+02,\n",
              "       5.45559478e+02, 1.43844989e+03, 3.79269019e+03, 1.00000000e+04]),\n",
              "                                        'solver': ['liblinear']})"
            ]
          },
          "metadata": {},
          "execution_count": 30
        }
      ],
      "source": [
        "rs_log_reg.fit(x_train,y_train)\n"
      ]
    },
    {
      "cell_type": "code",
      "execution_count": 31,
      "metadata": {
        "colab": {
          "base_uri": "https://localhost:8080/"
        },
        "id": "h0P5R4ByOKSh",
        "outputId": "c133a067-bee7-4eb2-da13-5098290a1523"
      },
      "outputs": [
        {
          "output_type": "execute_result",
          "data": {
            "text/plain": [
              "{'C': 11.288378916846883, 'solver': 'liblinear'}"
            ]
          },
          "metadata": {},
          "execution_count": 31
        }
      ],
      "source": [
        "rs_log_reg.best_params_\n"
      ]
    },
    {
      "cell_type": "code",
      "execution_count": 32,
      "metadata": {
        "colab": {
          "base_uri": "https://localhost:8080/"
        },
        "id": "xTxF2RedOkBN",
        "outputId": "44474de4-b6fb-4810-cecc-7764f29733ed"
      },
      "outputs": [
        {
          "output_type": "execute_result",
          "data": {
            "text/plain": [
              "0.8665183537263627"
            ]
          },
          "metadata": {},
          "execution_count": 32
        }
      ],
      "source": [
        "rs_log_reg.score(x_test,y_test)\n"
      ]
    },
    {
      "cell_type": "markdown",
      "metadata": {
        "id": "7pfMOFT2QySG"
      },
      "source": [
        "***EVALUATING THE MODEL***"
      ]
    },
    {
      "cell_type": "code",
      "execution_count": 33,
      "metadata": {
        "id": "ycfGrpbRgBT0"
      },
      "outputs": [],
      "source": [
        "y_preds=rs_log_reg.predict(x_test)"
      ]
    },
    {
      "cell_type": "code",
      "execution_count": 34,
      "metadata": {
        "colab": {
          "base_uri": "https://localhost:8080/"
        },
        "id": "JD2mgNzyRGmA",
        "outputId": "672f2934-f172-4627-ca72-12f4ac453331"
      },
      "outputs": [
        {
          "output_type": "execute_result",
          "data": {
            "text/plain": [
              "array([1, 1, 0, ..., 0, 1, 1])"
            ]
          },
          "metadata": {},
          "execution_count": 34
        }
      ],
      "source": [
        "y_preds"
      ]
    },
    {
      "cell_type": "code",
      "execution_count": 35,
      "metadata": {
        "colab": {
          "base_uri": "https://localhost:8080/"
        },
        "id": "xGL8u4BzRJL8",
        "outputId": "e8f4308c-8791-4c7d-f0c6-ecd4357d008e"
      },
      "outputs": [
        {
          "output_type": "execute_result",
          "data": {
            "text/plain": [
              "35738    0\n",
              "59839    1\n",
              "42391    0\n",
              "24205    0\n",
              "39856    1\n",
              "        ..\n",
              "59540    1\n",
              "70616    0\n",
              "36243    0\n",
              "54734    0\n",
              "60400    1\n",
              "Name: target, Length: 14384, dtype: int64"
            ]
          },
          "metadata": {},
          "execution_count": 35
        }
      ],
      "source": [
        "y_test"
      ]
    },
    {
      "cell_type": "code",
      "execution_count": 36,
      "metadata": {
        "colab": {
          "base_uri": "https://localhost:8080/",
          "height": 334
        },
        "id": "sQIguaaVRLY4",
        "outputId": "55af8c47-86ff-4347-a902-55c126947b95"
      },
      "outputs": [
        {
          "output_type": "stream",
          "name": "stderr",
          "text": [
            "/usr/local/lib/python3.7/dist-packages/sklearn/utils/deprecation.py:87: FutureWarning: Function plot_roc_curve is deprecated; Function :func:`plot_roc_curve` is deprecated in 1.0 and will be removed in 1.2. Use one of the class methods: :meth:`sklearn.metric.RocCurveDisplay.from_predictions` or :meth:`sklearn.metric.RocCurveDisplay.from_estimator`.\n",
            "  warnings.warn(msg, category=FutureWarning)\n"
          ]
        },
        {
          "output_type": "display_data",
          "data": {
            "text/plain": [
              "<Figure size 432x288 with 1 Axes>"
            ],
            "image/png": "[encoded data removed]"
          },
          "metadata": {
            "needs_background": "light"
          }
        }
      ],
      "source": [
        "curve=plot_roc_curve(rs_log_reg,x_test,y_test)"
      ]
    },
    {
      "cell_type": "code",
      "execution_count": 37,
      "metadata": {
        "colab": {
          "base_uri": "https://localhost:8080/"
        },
        "id": "2LhR7DIqR5aE",
        "outputId": "fea794d6-975c-412f-c08e-d2bd83dbdf53"
      },
      "outputs": [
        {
          "output_type": "stream",
          "name": "stdout",
          "text": [
            "[[5295 1301]\n",
            " [ 619 7169]]\n"
          ]
        }
      ],
      "source": [
        "print(confusion_matrix(y_test,y_preds))"
      ]
    },
    {
      "cell_type": "code",
      "execution_count": 38,
      "metadata": {
        "colab": {
          "base_uri": "https://localhost:8080/"
        },
        "id": "qVRZU8onSyTi",
        "outputId": "a13ad281-6207-4be3-b04c-5be6eb1df585"
      },
      "outputs": [
        {
          "output_type": "execute_result",
          "data": {
            "text/plain": [
              "{'C': 11.288378916846883, 'solver': 'liblinear'}"
            ]
          },
          "metadata": {},
          "execution_count": 38
        }
      ],
      "source": [
        "rs_log_reg.best_params_"
      ]
    },
    {
      "cell_type": "code",
      "execution_count": 39,
      "metadata": {
        "id": "_l383r6s64VE"
      },
      "outputs": [],
      "source": [
        "clf=LogisticRegression(C=11.288378916846883,solver='liblinear')"
      ]
    },
    {
      "cell_type": "code",
      "execution_count": 40,
      "metadata": {
        "id": "V2CqQxbi7U5x"
      },
      "outputs": [],
      "source": [
        "cv_acc=cross_val_score(clf,X,Y,cv=5,scoring='accuracy')\n",
        "cv_precision=cross_val_score(clf,X,Y,cv=5,scoring='precision')\n",
        "cv_recall=cross_val_score(clf,X,Y,cv=5,scoring='recall')\n",
        "cv_f1score=cross_val_score(clf,X,Y,cv=5,scoring='f1')\n",
        "\n"
      ]
    },
    {
      "cell_type": "code",
      "execution_count": 41,
      "metadata": {
        "colab": {
          "base_uri": "https://localhost:8080/"
        },
        "id": "dNqcKISP8VCy",
        "outputId": "4f7345d8-2673-46d4-b82e-7f498ab48734"
      },
      "outputs": [
        {
          "output_type": "execute_result",
          "data": {
            "text/plain": [
              "0.8645439377085651"
            ]
          },
          "metadata": {},
          "execution_count": 41
        }
      ],
      "source": [
        "cv_acc=np.mean(cv_acc)\n",
        "cv_acc"
      ]
    },
    {
      "cell_type": "code",
      "execution_count": 42,
      "metadata": {
        "colab": {
          "base_uri": "https://localhost:8080/"
        },
        "id": "aW2Az-aZ8o1p",
        "outputId": "f7fa787a-011a-49a5-87c5-8a3534a2a418"
      },
      "outputs": [
        {
          "output_type": "execute_result",
          "data": {
            "text/plain": [
              "0.8437731211397722"
            ]
          },
          "metadata": {},
          "execution_count": 42
        }
      ],
      "source": [
        "cv_precision=np.mean(cv_precision)\n",
        "cv_precision"
      ]
    },
    {
      "cell_type": "code",
      "execution_count": 43,
      "metadata": {
        "colab": {
          "base_uri": "https://localhost:8080/"
        },
        "id": "2ideR6Fj85VM",
        "outputId": "1884806e-0e2e-471d-9612-b27930686b70"
      },
      "outputs": [
        {
          "output_type": "execute_result",
          "data": {
            "text/plain": [
              "0.9214934151643013"
            ]
          },
          "metadata": {},
          "execution_count": 43
        }
      ],
      "source": [
        "cv_recall=np.mean(cv_recall)\n",
        "cv_recall"
      ]
    },
    {
      "cell_type": "code",
      "execution_count": 44,
      "metadata": {
        "colab": {
          "base_uri": "https://localhost:8080/"
        },
        "id": "TeSTPn_59Cb3",
        "outputId": "daa06002-3020-4b69-b026-bd1d8c711d98"
      },
      "outputs": [
        {
          "output_type": "execute_result",
          "data": {
            "text/plain": [
              "0.8809220773970701"
            ]
          },
          "metadata": {},
          "execution_count": 44
        }
      ],
      "source": [
        "cv_f1score=np.mean(cv_f1score)\n",
        "cv_f1score"
      ]
    }
  ],
  "metadata": {
    "colab": {
      "collapsed_sections": [],
      "name": "C kidney donor predict project.ipynb",
      "provenance": []
    },
    "kernelspec": {
      "display_name": "Python 3",
      "name": "python3"
    }
  },
  "nbformat": 4,
  "nbformat_minor": 0
}